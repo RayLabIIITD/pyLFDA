{
 "cells": [
  {
   "cell_type": "markdown",
   "id": "101a7955",
   "metadata": {
    "toc": true
   },
   "source": [
    "<h1>Table of Contents<span class=\"tocSkip\"></span></h1>\n",
    "<div class=\"toc\"><ul class=\"toc-item\"><li><span><a href=\"#Create-an-Experiment\" data-toc-modified-id=\"Create-an-Experiment-1\"><span class=\"toc-item-num\">1&nbsp;&nbsp;</span>Create an Experiment</a></span><ul class=\"toc-item\"><li><ul class=\"toc-item\"><li><span><a href=\"#About-the-System\" data-toc-modified-id=\"About-the-System-1.0.1\"><span class=\"toc-item-num\">1.0.1&nbsp;&nbsp;</span>About the System</a></span></li></ul></li><li><span><a href=\"#Run-GROMACS-FDA\" data-toc-modified-id=\"Run-GROMACS-FDA-1.1\"><span class=\"toc-item-num\">1.1&nbsp;&nbsp;</span>Run GROMACS FDA</a></span></li></ul></li><li><span><a href=\"#Parsing-PFA-File\" data-toc-modified-id=\"Parsing-PFA-File-2\"><span class=\"toc-item-num\">2&nbsp;&nbsp;</span>Parsing PFA File</a></span><ul class=\"toc-item\"><li><span><a href=\"#Averaged-Parsing\" data-toc-modified-id=\"Averaged-Parsing-2.1\"><span class=\"toc-item-num\">2.1&nbsp;&nbsp;</span>Averaged Parsing</a></span></li></ul></li><li><span><a href=\"#Curvature\" data-toc-modified-id=\"Curvature-3\"><span class=\"toc-item-num\">3&nbsp;&nbsp;</span>Curvature</a></span></li><li><span><a href=\"#Cluster\" data-toc-modified-id=\"Cluster-4\"><span class=\"toc-item-num\">4&nbsp;&nbsp;</span>Cluster</a></span></li><li><span><a href=\"#Force\" data-toc-modified-id=\"Force-5\"><span class=\"toc-item-num\">5&nbsp;&nbsp;</span>Force</a></span></li><li><span><a href=\"#MSD-and-Diffusion\" data-toc-modified-id=\"MSD-and-Diffusion-6\"><span class=\"toc-item-num\">6&nbsp;&nbsp;</span>MSD and Diffusion</a></span></li><li><span><a href=\"#Framewise-parsing-of-PFA\" data-toc-modified-id=\"Framewise-parsing-of-PFA-7\"><span class=\"toc-item-num\">7&nbsp;&nbsp;</span>Framewise parsing of PFA</a></span></li><li><span><a href=\"#Lipid-Angles\" data-toc-modified-id=\"Lipid-Angles-8\"><span class=\"toc-item-num\">8&nbsp;&nbsp;</span>Lipid Angles</a></span></li></ul></div>"
   ]
  },
  {
   "cell_type": "code",
   "execution_count": 1,
   "id": "5651f343",
   "metadata": {},
   "outputs": [],
   "source": [
    "from pyLFDA import LFDA\n",
    "from IPython.display import SVG, display, Image, HTML"
   ]
  },
  {
   "cell_type": "markdown",
   "id": "dc16479b",
   "metadata": {},
   "source": [
    "# Create an Experiment\n",
    "the `LFDA()` class is central in running analysis on your simulations. \\\n",
    "\\\n",
    "Arguments:\n",
    "-   `experiment_name` : Name of the experiment. Uses this to create a directory to store outputs in. If not specified time-stamp of experiment will be used.\n",
    "-   `pdb_filename` : Path of the PDB file to be used.\n",
    "-   `gro_filename` : Path of the GRO file to be used.\n",
    "-   `trr_filename` : Path of the TRR file to be used.\n",
    "-   `tpr_filename` : Path of the TPR file to be used.\n",
    "-   `ndx_filename` : Path of the NDX file to be used.\n",
    "-   `gfda_version` : Version of Gromacs FDA to be used. Creates a directory with the name to store it and uses it for further experiments. Currently, we support these cersions only - ['v2020.4-fda2.10.2', 'v2020.3-fda2.10.1', 'v2020.3-fda2.10', 'v2020-fda2.10', 'v2019.3-fda2.9.1', 'v2018.7-fda2.9.1']. "
   ]
  },
  {
   "cell_type": "code",
   "execution_count": 2,
   "id": "b14a0b36",
   "metadata": {},
   "outputs": [
    {
     "name": "stdout",
     "output_type": "stream",
     "text": [
      "Making MDA Universe from PDB and TRR file\n",
      "Parsing GRO file to calculate numbers of atoms, atoms information and box vectors\n",
      "/mnt/c/Users/bhava/Desktop/work/lfda/pyLFDA/het_memb/het-aa/step7_1.gro file parsed. with 155271 atoms in 0.954578161239624 seconds\n"
     ]
    }
   ],
   "source": [
    "#To do analysis, first we create an LFDA() object.\n",
    "#It stores all files required to do the experiment.\n",
    "#The argument names are self explanatory.\n",
    "experiment = LFDA(experiment_name=\"lfda_het_aa\", trr_filename=\"het-aa/step7_comb_no80.trr\", tpr_filename=\"het-aa/step7_1.tpr\", ndx_filename=\"het-aa/index.ndx\", pdb_filename=\"het-aa/step7_1.pdb\", gro_filename=\"het-aa/step7_1.gro\", gfda_version=\"v2020.4-fda2.10.2\")\n",
    "#The specified version will automatically be downloaded and be used for any subsequent experiments if the files are run from the same directory."
   ]
  },
  {
   "cell_type": "markdown",
   "id": "3828752d",
   "metadata": {},
   "source": [
    "### About the System\n",
    " - This is a heterogenous atomistic Martini System with the following molecules:\n",
    "    - POPE: 144\n",
    "    - POPC: 360\n",
    "    - PSM: 18\n",
    "    - POPS: 18\n",
    "    - POPI: 60\n",
    "    - SOD: 144\n",
    "    - CLA: 66\n",
    "    - TIP3: 25343"
   ]
  },
  {
   "cell_type": "markdown",
   "id": "bca862b5",
   "metadata": {},
   "source": [
    "## Run GROMACS FDA\n",
    "`run_fda()` create `.pfi` file and then generating a PFA file using GROMACS FDA. \\\n",
    " \\\n",
    " Arguments : \n",
    "   -   `group1` : 1st group selected\n",
    "   -   `group2` : 2nd group selected\n",
    "   -   `residue_list` : [group1, group2]\n",
    "   -   `pfi_filename` : Name of the PFI file to be generated. It is inferred from the experiment class if None.\n",
    "   -   `pfa_filename` : Name of the PFA file to be generated. It is inferred from the experiment class if None."
   ]
  },
  {
   "cell_type": "code",
   "execution_count": 3,
   "id": "c8ca7097",
   "metadata": {},
   "outputs": [
    {
     "name": "stdout",
     "output_type": "stream",
     "text": [
      "Creating PFI file\n",
      "/mnt/c/Users/bhava/Desktop/work/lfda/pyLFDA/het_memb/lfda_het_aa/pfi_Jan-05-2022_2223.pfi file created in 0.011579751968383789 seconds \n",
      "Running Gromacs FDA\n",
      "ResidueRenumber: auto\n",
      "Vector2Scalar: norm\n",
      "Pairwise interactions selected: all\n",
      "Pairwise forces for groups: POPS and POPC\n"
     ]
    },
    {
     "name": "stderr",
     "output_type": "stream",
     "text": [
      "       :-) GROMACS - gmx mdrun, 2020.4-dev-20201029-4b5790511-unknown (-:\n",
      "\n",
      "                            GROMACS is written by:\n",
      "     Emile Apol      Rossen Apostolov      Paul Bauer     Herman J.C. Berendsen\n",
      "    Par Bjelkmar      Christian Blau   Viacheslav Bolnykh     Kevin Boyd    \n",
      " Aldert van Buuren   Rudi van Drunen     Anton Feenstra       Alan Gray     \n",
      "  Gerrit Groenhof     Anca Hamuraru    Vincent Hindriksen  M. Eric Irrgang  \n",
      "  Aleksei Iupinov   Christoph Junghans     Joe Jordan     Dimitrios Karkoulis\n",
      "    Peter Kasson        Jiri Kraus      Carsten Kutzner      Per Larsson    \n",
      "  Justin A. Lemkul    Viveca Lindahl    Magnus Lundborg     Erik Marklund   \n",
      "    Pascal Merz     Pieter Meulenhoff    Teemu Murtola       Szilard Pall   \n",
      "    Sander Pronk      Roland Schulz      Michael Shirts    Alexey Shvetsov  \n",
      "   Alfons Sijbers     Peter Tieleman      Jon Vincent      Teemu Virolainen \n",
      " Christian Wennberg    Maarten Wolf      Artem Zhmurov   \n",
      "                           and the project leaders:\n",
      "        Mark Abraham, Berk Hess, Erik Lindahl, and David van der Spoel\n",
      "\n",
      "Copyright (c) 1991-2000, University of Groningen, The Netherlands.\n",
      "Copyright (c) 2001-2019, The GROMACS development team at\n",
      "Uppsala University, Stockholm University and\n",
      "the Royal Institute of Technology, Sweden.\n",
      "check out http://www.gromacs.org for more information.\n",
      "\n",
      "GROMACS is free software; you can redistribute it and/or modify it\n",
      "under the terms of the GNU Lesser General Public License\n",
      "as published by the Free Software Foundation; either version 2.1\n",
      "of the License, or (at your option) any later version.\n",
      "\n",
      "GROMACS:      gmx mdrun, version 2020.4-dev-20201029-4b5790511-unknown\n",
      "Executable:   /mnt/c/Users/bhava/Desktop/work/lfda/pyLFDA/het_memb/v2020.4-fda2.10.2/bin/./gmx_fda\n",
      "Data prefix:  /mnt/c/Users/bhava/Desktop/work/lfda/pyLFDA/het_memb/v2020.4-fda2.10.2\n",
      "Working dir:  /mnt/c/Users/bhava/Desktop/work/lfda/pyLFDA/het_memb\n",
      "Command line:\n",
      "  gmx_fda mdrun -rerun /mnt/c/Users/bhava/Desktop/work/lfda/pyLFDA/het_memb/het-aa/step7_comb_no80.trr -s /mnt/c/Users/bhava/Desktop/work/lfda/pyLFDA/het_memb/het-aa/step7_1.tpr -pfi /mnt/c/Users/bhava/Desktop/work/lfda/pyLFDA/het_memb/lfda_het_aa/pfi_Jan-05-2022_2223.pfi -nt 1 -pfa /mnt/c/Users/bhava/Desktop/work/lfda/pyLFDA/het_memb/lfda_het_aa/pfa_file.pfa -pfn /mnt/c/Users/bhava/Desktop/work/lfda/pyLFDA/het_memb/het-aa/index.ndx\n",
      "\n",
      "\n",
      "Back Off! I just backed up md.log to ./#md.log.10#\n",
      "Compiled SIMD: None, but for this host/run AVX2_256 might be better (see log).\n",
      "The current CPU can measure timings more accurately than the code in\n",
      "gmx mdrun was configured to use. This might affect your simulation\n",
      "speed as accurate timings are needed for load-balancing.\n",
      "Please consider rebuilding gmx mdrun with the GMX_USE_RDTSCP=ON CMake option.\n",
      "Reading file /mnt/c/Users/bhava/Desktop/work/lfda/pyLFDA/het_memb/het-aa/step7_1.tpr, VERSION 2020 (single precision)\n",
      "Residue number collision detected, residues will be renumbered.\n",
      "\n",
      "Back Off! I just backed up /mnt/c/Users/bhava/Desktop/work/lfda/pyLFDA/het_memb/lfda_het_aa/pfa_file.pfa to /mnt/c/Users/bhava/Desktop/work/lfda/pyLFDA/het_memb/lfda_het_aa/#pfa_file.pfa.1#\n",
      "Changing nstlist from 20 to 100, rlist from 1.2 to 1.311\n",
      "\n",
      "\n",
      "Using 1 MPI thread\n",
      "\n",
      "Non-default thread affinity set, disabling internal thread affinity\n",
      "\n",
      "Using 1 OpenMP thread \n",
      "\n",
      "\n",
      "WARNING: Using the slow plain C kernels. This should\n",
      "not happen during routine usage on supported platforms.\n"
     ]
    },
    {
     "name": "stdout",
     "output_type": "stream",
     "text": [
      "Binary mode: 0\n",
      "Threshold: 1e-10\n",
      "Normalize punctual stress per residue: 0\n",
      "Ignore missing potentials: 1\n"
     ]
    },
    {
     "name": "stderr",
     "output_type": "stream",
     "text": [
      "\n",
      "Back Off! I just backed up traj.trr to ./#traj.trr.10#\n",
      "\n",
      "Back Off! I just backed up ener.edr to ./#ener.edr.10#\n",
      "\n",
      "WARNING: This run will generate roughly 26829 Mb of data\n",
      "\n",
      "starting md rerun 'Title', reading coordinates from input trajectory '/mnt/c/Users/bhava/Desktop/work/lfda/pyLFDA/het_memb/het-aa/step7_comb_no80.trr'\n",
      "\n",
      "trr version: GMX_trn_file (single precision)\n",
      "Reading frame    1500 time 151000.000   "
     ]
    },
    {
     "name": "stdout",
     "output_type": "stream",
     "text": [
      "GMX RUN completed in 11941.354944229126 seconds\n",
      "/mnt/c/Users/bhava/Desktop/work/lfda/pyLFDA/het_memb/lfda_het_aa/pfa_file.pfa PFA file is generated in /mnt/c/Users/bhava/Desktop/work/lfda/pyLFDA/het_memb/lfda_het_aa\n"
     ]
    },
    {
     "name": "stderr",
     "output_type": "stream",
     "text": [
      "\n",
      "\n",
      "               Core t (s)   Wall t (s)        (%)\n",
      "       Time:    11911.247    11911.262      100.0\n",
      "                         3h18:31\n",
      "                 (ns/day)    (hour/ns)\n",
      "Performance:        0.000          inf\n",
      "\n",
      "GROMACS reminds you: \"Our struggle today is not to have a female Einstein get appointed as an assistant professor. It is for a woman schlemiel to get as quickly promoted as a male schlemiel.\" (Bella Abzug)\n",
      "\n"
     ]
    }
   ],
   "source": [
    "#Run GROMACS FDA to calculate pairwise forces.\n",
    "#This command creates a .pfa file containing pairwise forces between atoms.\n",
    "experiment.run_fda(group1=\"POPS\", group2=\"POPC\", residue_list=[\"POPS\", \"POPC\"], pfa_filename=\"pfa_file.pfa\")"
   ]
  },
  {
   "cell_type": "code",
   "execution_count": 4,
   "id": "ae52caa1",
   "metadata": {},
   "outputs": [
    {
     "name": "stdout",
     "output_type": "stream",
     "text": [
      "Loading PFA file generated by Gromacs FDA\n"
     ]
    }
   ],
   "source": [
    "#Running GROMACS FDA can be a time consuming process.\n",
    "#If you want to continue experimenting on a .pfa file you had previously generated.\n",
    "#you can just load it and continue working.\n",
    "#you dont need to run `run_fda()` if you load your .pfa file.\n",
    "experiment.load_pfa(pfa_filename=\"lfda_het_aa/pfa_file.pfa\", group1=\"POPS\", group2=\"POPC\", residue_list=[\"POPS\", \"POPC\"])"
   ]
  },
  {
   "cell_type": "markdown",
   "id": "7c3220aa",
   "metadata": {},
   "source": [
    "# Parsing PFA File\n",
    "The `.pfa` file generated by GROMACS FDA is parsed for further analyses. The file can be parsed in two ways depending on your use case. \n",
    " - `Average Parsing` - Allows for calculation of averaged properties over all frames. set `mode` argument to `average`.\n",
    " - `Framewise Parsing` - Allows for calculation of either properties for a specific frame or for a moving window over all frames. set `mode` argument to `framewise`.\n"
   ]
  },
  {
   "cell_type": "markdown",
   "id": "244134ea",
   "metadata": {},
   "source": [
    "## Averaged Parsing"
   ]
  },
  {
   "cell_type": "code",
   "execution_count": 5,
   "id": "71eacbc9",
   "metadata": {},
   "outputs": [
    {
     "name": "stdout",
     "output_type": "stream",
     "text": [
      "Parsing PFA file as average\n",
      "Parsed PFA file /mnt/c/Users/bhava/Desktop/work/lfda/pyLFDA/het_memb/lfda_het_aa/generated_pfa_average.pfa created with 155271 atoms in 8260.70097541809 seconds\n",
      "Summed PFA file parsed in 0.21112513542175293 seconds\n"
     ]
    }
   ],
   "source": [
    "#The .pfa file created, is parsed as average or framewise.\n",
    "experiment.framewise=False #we specify that we need to parse pfa as average.\n",
    "experiment.parse_pfa(file_name=\"generated_pfa_average.pfa\")"
   ]
  },
  {
   "cell_type": "code",
   "execution_count": 6,
   "id": "34535933",
   "metadata": {},
   "outputs": [
    {
     "name": "stdout",
     "output_type": "stream",
     "text": [
      "Loading Average parsed PFA file\n",
      "Summed PFA file parsed in 0.297621488571167 seconds\n"
     ]
    }
   ],
   "source": [
    "#Parsing .pfa can also be time consuming.\n",
    "#You can just load the parsed .pfa to continue experimenting.\n",
    "#The generated pfa file should be parsed as average to further parse it as average and similarly for framewise.\n",
    "#using this function in \"average\" mode automatically sets \"experiment.framewise\" to \"False\".\n",
    "experiment.parse_parsed_pfa(file_name=\"lfda_het_aa/generated_pfa_average.pfa\", mode=\"average\", group1=\"POPS\", group2=\"POPC\", residue_list=[\"POPS\",\"POPC\"])"
   ]
  },
  {
   "cell_type": "markdown",
   "id": "cfb0ce9f",
   "metadata": {},
   "source": [
    "# Curvature \n",
    "This function generates curvature plots using MDAnalysis and displays them along with pairwise forces of the selected groups and the angle they make with the z-axis. \\\n",
    "\\\n",
    "Arguments: \n",
    " - `specific_frame`: (int) Frame to calculate forces for. default: None.\n",
    " - `window`: (int) Moving Window size. default: None.\n",
    " - `num_x_bins`: (int) Number of bins in x-direction. default: 10.\n",
    " - `num_y_bins`: (int) Number of bins in y-direction. default: 10.\n",
    " - `split`: (bool) Split Calculations into Upper and Lower Membranes. default: False"
   ]
  },
  {
   "cell_type": "code",
   "execution_count": 7,
   "id": "b56980da",
   "metadata": {},
   "outputs": [
    {
     "name": "stderr",
     "output_type": "stream",
     "text": [
      "MDAnalysis.analysis.base: INFO     Choosing frames to analyze\n",
      "MDAnalysis.analysis.base: INFO     Choosing frames to analyze\n",
      "MDAnalysis.analysis.base: INFO     Starting preparation\n",
      "MDAnalysis.analysis.base: INFO     Starting preparation\n"
     ]
    },
    {
     "name": "stdout",
     "output_type": "stream",
     "text": [
      "Creating curvature plot\n"
     ]
    },
    {
     "name": "stderr",
     "output_type": "stream",
     "text": [
      "MDAnalysis.analysis.base: INFO     Finishing up\n",
      "MDAnalysis.analysis.base: INFO     Finishing up\n"
     ]
    }
   ],
   "source": [
    "#Generate curavture plots\n",
    "experiment.curvature()"
   ]
  },
  {
   "cell_type": "code",
   "execution_count": 8,
   "id": "b32b9e60",
   "metadata": {},
   "outputs": [
    {
     "data": {
      "text/html": [
       "<img src=\"het_memb/lfda_het_aa/curvature_averaged_10_10_P.svg\"\"></img>"
      ],
      "text/plain": [
       "<IPython.core.display.HTML object>"
      ]
     },
     "metadata": {},
     "output_type": "display_data"
    }
   ],
   "source": [
    "#visualise curvature plots\n",
    "display(HTML(f'<img src=\"lfda_het_aa/curvature_averaged_10_10_P.svg\"\"></img>'))"
   ]
  },
  {
   "cell_type": "code",
   "execution_count": 9,
   "id": "d6904e19",
   "metadata": {},
   "outputs": [
    {
     "name": "stdout",
     "output_type": "stream",
     "text": [
      "Creating curvature plot\n"
     ]
    },
    {
     "name": "stderr",
     "output_type": "stream",
     "text": [
      "MDAnalysis.analysis.base: INFO     Choosing frames to analyze\n",
      "MDAnalysis.analysis.base: INFO     Choosing frames to analyze\n",
      "MDAnalysis.analysis.base: INFO     Starting preparation\n",
      "MDAnalysis.analysis.base: INFO     Starting preparation\n",
      "MDAnalysis.analysis.base: INFO     Finishing up\n",
      "MDAnalysis.analysis.base: INFO     Finishing up\n",
      "MDAnalysis.analysis.base: INFO     Choosing frames to analyze\n",
      "MDAnalysis.analysis.base: INFO     Choosing frames to analyze\n",
      "MDAnalysis.analysis.base: INFO     Starting preparation\n",
      "MDAnalysis.analysis.base: INFO     Starting preparation\n",
      "MDAnalysis.analysis.base: INFO     Finishing up\n",
      "MDAnalysis.analysis.base: INFO     Finishing up\n"
     ]
    }
   ],
   "source": [
    "#Splitting the curavture into upper and lower membrane.\n",
    "experiment.curvature(split=True)"
   ]
  },
  {
   "cell_type": "code",
   "execution_count": 10,
   "id": "8ffaefcc",
   "metadata": {},
   "outputs": [
    {
     "data": {
      "text/html": [
       "<img src=\"het_memb/lfda_het_aa/curvature_averaged_10_10_P_Upper.svg\"\"></img>"
      ],
      "text/plain": [
       "<IPython.core.display.HTML object>"
      ]
     },
     "metadata": {},
     "output_type": "display_data"
    }
   ],
   "source": [
    "display(HTML(f'<img src=\"lfda_het_aa/curvature_averaged_10_10_P_Upper.svg\"\"></img>'))"
   ]
  },
  {
   "cell_type": "code",
   "execution_count": 11,
   "id": "23de26ea",
   "metadata": {},
   "outputs": [
    {
     "data": {
      "text/html": [
       "<img src=\"het_memb/lfda_het_aa/curvature_averaged_10_10_P_Lower.svg\"\"></img>"
      ],
      "text/plain": [
       "<IPython.core.display.HTML object>"
      ]
     },
     "metadata": {},
     "output_type": "display_data"
    }
   ],
   "source": [
    "display(HTML(f'<img src=\"lfda_het_aa/curvature_averaged_10_10_P_Lower.svg\"\"></img>'))"
   ]
  },
  {
   "cell_type": "markdown",
   "id": "f49cba58",
   "metadata": {},
   "source": [
    "# Cluster \n",
    "This function clusters the selected residues. \\\n",
    "\\\n",
    "Arguments:\n",
    " - `attached_ligands`: (str) Ligand 1 to be clustered. default: group 1 previously selected(\"POPS\" in this example).\n",
    " - `lipids_to_cluster`: (str) Ligand 2 to be clustered. default: group 2 previously selected(\"POPC\" in this example).\n",
    " - `protein_residue_names`: (list) All residues except for attached_ligands and lipids_to_cluster.\n",
    " - `box_side_length`: (int) Length of a box size. default: 6."
   ]
  },
  {
   "cell_type": "code",
   "execution_count": 12,
   "id": "b82a3205",
   "metadata": {},
   "outputs": [
    {
     "name": "stdout",
     "output_type": "stream",
     "text": [
      "Making clutering plots\n"
     ]
    }
   ],
   "source": [
    "experiment.cluster(lipids_to_cluster=\"POPS\", attached_ligands=\"POPC\")"
   ]
  },
  {
   "cell_type": "code",
   "execution_count": 13,
   "id": "38ed92fb",
   "metadata": {},
   "outputs": [
    {
     "data": {
      "text/html": [
       "<img src=\"het_memb/lfda_het_aa/cluster_POPS_POPC.svg\"\"></img>"
      ],
      "text/plain": [
       "<IPython.core.display.HTML object>"
      ]
     },
     "metadata": {},
     "output_type": "display_data"
    }
   ],
   "source": [
    "display(HTML(f'<img src=\"lfda_het_aa/cluster_POPS_POPC.svg\"\"></img>'))"
   ]
  },
  {
   "cell_type": "code",
   "execution_count": 14,
   "id": "dd437787",
   "metadata": {},
   "outputs": [
    {
     "name": "stdout",
     "output_type": "stream",
     "text": [
      "Making clutering plots\n"
     ]
    }
   ],
   "source": [
    "experiment.cluster(lipids_to_cluster=\"POPS\", mode=\"single\")"
   ]
  },
  {
   "cell_type": "code",
   "execution_count": 15,
   "id": "9114774b",
   "metadata": {},
   "outputs": [
    {
     "data": {
      "text/html": [
       "<img src=\"het_memb/lfda_het_aa/cluster_POPS_POPC.svg\"\"></img>"
      ],
      "text/plain": [
       "<IPython.core.display.HTML object>"
      ]
     },
     "metadata": {},
     "output_type": "display_data"
    }
   ],
   "source": [
    "display(HTML(f'<img src=\"lfda_het_aa/cluster_POPS_POPC.svg\"\"></img>'))"
   ]
  },
  {
   "cell_type": "markdown",
   "id": "efcface9",
   "metadata": {},
   "source": [
    "# Force \n",
    "This function calculates the pairwise force between selected groups 1 and 2. \\\n",
    "\\\n",
    "Arguments: \n",
    " - `specific_frame`: (int) Frame to calculate forces for. default: None.\n",
    " - `window`: (int) Moving Window size. default: None."
   ]
  },
  {
   "cell_type": "code",
   "execution_count": 16,
   "id": "3172b4a8",
   "metadata": {},
   "outputs": [
    {
     "name": "stdout",
     "output_type": "stream",
     "text": [
      "Creating average force plot\n",
      "Average Force plots created and saved\n"
     ]
    }
   ],
   "source": [
    "experiment.force_graph()"
   ]
  },
  {
   "cell_type": "code",
   "execution_count": 17,
   "id": "8ef0e088",
   "metadata": {},
   "outputs": [
    {
     "data": {
      "text/html": [
       "<img src=\"het_memb/lfda_het_aa/force_averaged_POPS_POPC.svg\"\"></img>"
      ],
      "text/plain": [
       "<IPython.core.display.HTML object>"
      ]
     },
     "metadata": {},
     "output_type": "display_data"
    }
   ],
   "source": [
    "display(HTML(f'<img src=\"lfda_het_aa/force_averaged_POPS_POPC.svg\"\"></img>'))"
   ]
  },
  {
   "cell_type": "markdown",
   "id": "80a0e072",
   "metadata": {},
   "source": [
    "# MSD and Diffusion\n",
    "This function calculates MSD values and calculates the diffusion coefficient using MDAnalyses."
   ]
  },
  {
   "cell_type": "code",
   "execution_count": 18,
   "id": "152fe73e",
   "metadata": {},
   "outputs": [
    {
     "name": "stderr",
     "output_type": "stream",
     "text": [
      "MDAnalysis.analysis.base: INFO     Choosing frames to analyze\n",
      "MDAnalysis.analysis.base: INFO     Choosing frames to analyze\n",
      "MDAnalysis.analysis.base: INFO     Starting preparation\n",
      "MDAnalysis.analysis.base: INFO     Starting preparation\n"
     ]
    },
    {
     "name": "stdout",
     "output_type": "stream",
     "text": [
      "Calculating diffusion coefficient\n"
     ]
    },
    {
     "name": "stderr",
     "output_type": "stream",
     "text": [
      "MDAnalysis.analysis.base: INFO     Finishing up\n",
      "MDAnalysis.analysis.base: INFO     Finishing up\n"
     ]
    },
    {
     "name": "stdout",
     "output_type": "stream",
     "text": [
      "Diffution coefficient and MSD plotted\n"
     ]
    }
   ],
   "source": [
    "experiment.msd()"
   ]
  },
  {
   "cell_type": "code",
   "execution_count": 19,
   "id": "8468aa57",
   "metadata": {},
   "outputs": [
    {
     "data": {
      "text/html": [
       "<img src=\"het_memb/lfda_het_aa/MSD.svg\"\"></img>"
      ],
      "text/plain": [
       "<IPython.core.display.HTML object>"
      ]
     },
     "metadata": {},
     "output_type": "display_data"
    }
   ],
   "source": [
    "display(HTML(f'<img src=\"lfda_het_aa/MSD.svg\"\"></img>'))"
   ]
  },
  {
   "cell_type": "markdown",
   "id": "6311f1f8",
   "metadata": {},
   "source": [
    "# Framewise parsing of PFA\n",
    "This section illustrates how to generate framewise and moving window plots."
   ]
  },
  {
   "cell_type": "code",
   "execution_count": 20,
   "id": "0fce9087",
   "metadata": {},
   "outputs": [
    {
     "name": "stdout",
     "output_type": "stream",
     "text": [
      "Parsing PFA file as framewise\n",
      "Parsed PFA file /mnt/c/Users/bhava/Desktop/work/lfda/pyLFDA/het_memb/lfda_het_aa/generated_pfa_framewise.pfa created with 155271 atoms in 8379.448315143585 seconds\n",
      "Summed PFA file parsed in 915.2075605392456 seconds\n"
     ]
    }
   ],
   "source": [
    "#The .pfa file created, is parsed asframewise.\n",
    "experiment.framewise = True\n",
    "experiment.parse_pfa(file_name=\"generated_pfa_framewise.pfa\")"
   ]
  },
  {
   "cell_type": "code",
   "execution_count": 21,
   "id": "e76b9bf9",
   "metadata": {},
   "outputs": [
    {
     "name": "stdout",
     "output_type": "stream",
     "text": [
      "Loading Framewise parsed PFA file\n",
      "Summed PFA file parsed in 369.3622009754181 seconds\n"
     ]
    }
   ],
   "source": [
    "#using this function in \"average\" mode automatically sets \"experiment.framewise\" to \"True\".\n",
    "experiment.parse_parsed_pfa(file_name=\"lfda_het_aa/generated_pfa_framewise.pfa\", mode=\"framewise\", group1=\"POPS\", group2=\"POPC\", residue_list=[\"POPS\",\"POPC\"])"
   ]
  },
  {
   "cell_type": "code",
   "execution_count": 22,
   "id": "0a725d58",
   "metadata": {
    "scrolled": true
   },
   "outputs": [
    {
     "name": "stdout",
     "output_type": "stream",
     "text": [
      "Creating curvature plot for frame 50\n"
     ]
    },
    {
     "name": "stderr",
     "output_type": "stream",
     "text": [
      "MDAnalysis.analysis.base: INFO     Choosing frames to analyze\n",
      "MDAnalysis.analysis.base: INFO     Choosing frames to analyze\n",
      "MDAnalysis.analysis.base: INFO     Starting preparation\n",
      "MDAnalysis.analysis.base: INFO     Starting preparation\n",
      "MDAnalysis.analysis.base: INFO     Finishing up\n",
      "MDAnalysis.analysis.base: INFO     Finishing up\n"
     ]
    }
   ],
   "source": [
    "#create curvature plots for the 50th frame\n",
    "experiment.curvature(specific_frame=50)"
   ]
  },
  {
   "cell_type": "code",
   "execution_count": 23,
   "id": "769bae75",
   "metadata": {},
   "outputs": [
    {
     "data": {
      "text/html": [
       "<img src=\"het_memb/lfda_het_aa/curvature_framewise_10_10_P_50.svg\"\"></img>"
      ],
      "text/plain": [
       "<IPython.core.display.HTML object>"
      ]
     },
     "metadata": {},
     "output_type": "display_data"
    }
   ],
   "source": [
    "#visualise the plots\n",
    "display(HTML(f'<img src=\"lfda_het_aa/curvature_framewise_10_10_P_50.svg\"\"></img>'))"
   ]
  },
  {
   "cell_type": "code",
   "execution_count": 24,
   "id": "d208323e",
   "metadata": {},
   "outputs": [
    {
     "data": {
      "image/svg+xml": "<svg xmlns:xlink=\"http://www.w3.org/1999/xlink\" xmlns=\"http://www.w3.org/2000/svg\" width=\"432pt\" height=\"288pt\" viewBox=\"0 0 432 288\" version=\"1.1\">\n <metadata>\n  <rdf:RDF xmlns:dc=\"http://purl.org/dc/elements/1.1/\" xmlns:cc=\"http://creativecommons.org/ns#\" xmlns:rdf=\"http://www.w3.org/1999/02/22-rdf-syntax-ns#\">\n   <cc:Work>\n    <dc:type rdf:resource=\"http://purl.org/dc/dcmitype/StillImage\"/>\n    <dc:date>2022-01-26T03:13:47.842604</dc:date>\n    <dc:format>image/svg+xml</dc:format>\n    <dc:creator>\n     <cc:Agent>\n      <dc:title>Matplotlib v3.5.1, https://matplotlib.org/</dc:title>\n     </cc:Agent>\n    </dc:creator>\n   </cc:Work>\n  </rdf:RDF>\n </metadata>\n <defs>\n  <style type=\"text/css\">*{stroke-linejoin: round; stroke-linecap: butt}</style>\n </defs>\n <g id=\"figure_1\">\n  <g id=\"patch_1\">\n   <path d=\"M 0 288  L 432 288  L 432 0  L 0 0  L 0 288  z \" style=\"fill: none\"/>\n  </g>\n  <g id=\"axes_1\">\n   <g id=\"patch_2\">\n    <path d=\"M 54 252  L 388.8 252  L 388.8 34.56  L 54 34.56  z \" style=\"fill: #ffffff\"/>\n   </g>\n   <g id=\"matplotlib.axis_1\">\n    <g id=\"xtick_1\">\n     <g id=\"line2d_1\">\n      <defs>\n       <path id=\"m93942413a1\" d=\"M 0 0  L 0 3.5  \" style=\"stroke: #000000; stroke-width: 0.8\"/>\n      </defs>\n      <g>\n       <use xlink:href=\"#m93942413a1\" x=\"69.218182\" y=\"252\" style=\"stroke: #000000; stroke-width: 0.8\"/>\n      </g>\n     </g>\n     <g id=\"text_1\">\n      <!-- 0 -->\n      <g transform=\"translate(66.036932 266.598437)scale(0.1 -0.1)\">\n       <defs>\n        <path id=\"DejaVuSans-30\" d=\"M 2034 4250  Q 1547 4250 1301 3770  Q 1056 3291 1056 2328  Q 1056 1369 1301 889  Q 1547 409 2034 409  Q 2525 409 2770 889  Q 3016 1369 3016 2328  Q 3016 3291 2770 3770  Q 2525 4250 2034 4250  z M 2034 4750  Q 2819 4750 3233 4129  Q 3647 3509 3647 2328  Q 3647 1150 3233 529  Q 2819 -91 2034 -91  Q 1250 -91 836 529  Q 422 1150 422 2328  Q 422 3509 836 4129  Q 1250 4750 2034 4750  z \" transform=\"scale(0.015625)\"/>\n       </defs>\n       <use xlink:href=\"#DejaVuSans-30\"/>\n      </g>\n     </g>\n    </g>\n    <g id=\"xtick_2\">\n     <g id=\"line2d_2\">\n      <g>\n       <use xlink:href=\"#m93942413a1\" x=\"107.941291\" y=\"252\" style=\"stroke: #000000; stroke-width: 0.8\"/>\n      </g>\n     </g>\n     <g id=\"text_2\">\n      <!-- 200 -->\n      <g transform=\"translate(98.397541 266.598437)scale(0.1 -0.1)\">\n       <defs>\n        <path id=\"DejaVuSans-32\" d=\"M 1228 531  L 3431 531  L 3431 0  L 469 0  L 469 531  Q 828 903 1448 1529  Q 2069 2156 2228 2338  Q 2531 2678 2651 2914  Q 2772 3150 2772 3378  Q 2772 3750 2511 3984  Q 2250 4219 1831 4219  Q 1534 4219 1204 4116  Q 875 4013 500 3803  L 500 4441  Q 881 4594 1212 4672  Q 1544 4750 1819 4750  Q 2544 4750 2975 4387  Q 3406 4025 3406 3419  Q 3406 3131 3298 2873  Q 3191 2616 2906 2266  Q 2828 2175 2409 1742  Q 1991 1309 1228 531  z \" transform=\"scale(0.015625)\"/>\n       </defs>\n       <use xlink:href=\"#DejaVuSans-32\"/>\n       <use xlink:href=\"#DejaVuSans-30\" x=\"63.623047\"/>\n       <use xlink:href=\"#DejaVuSans-30\" x=\"127.246094\"/>\n      </g>\n     </g>\n    </g>\n    <g id=\"xtick_3\">\n     <g id=\"line2d_3\">\n      <g>\n       <use xlink:href=\"#m93942413a1\" x=\"146.6644\" y=\"252\" style=\"stroke: #000000; stroke-width: 0.8\"/>\n      </g>\n     </g>\n     <g id=\"text_3\">\n      <!-- 400 -->\n      <g transform=\"translate(137.12065 266.598437)scale(0.1 -0.1)\">\n       <defs>\n        <path id=\"DejaVuSans-34\" d=\"M 2419 4116  L 825 1625  L 2419 1625  L 2419 4116  z M 2253 4666  L 3047 4666  L 3047 1625  L 3713 1625  L 3713 1100  L 3047 1100  L 3047 0  L 2419 0  L 2419 1100  L 313 1100  L 313 1709  L 2253 4666  z \" transform=\"scale(0.015625)\"/>\n       </defs>\n       <use xlink:href=\"#DejaVuSans-34\"/>\n       <use xlink:href=\"#DejaVuSans-30\" x=\"63.623047\"/>\n       <use xlink:href=\"#DejaVuSans-30\" x=\"127.246094\"/>\n      </g>\n     </g>\n    </g>\n    <g id=\"xtick_4\">\n     <g id=\"line2d_4\">\n      <g>\n       <use xlink:href=\"#m93942413a1\" x=\"185.387509\" y=\"252\" style=\"stroke: #000000; stroke-width: 0.8\"/>\n      </g>\n     </g>\n     <g id=\"text_4\">\n      <!-- 600 -->\n      <g transform=\"translate(175.843759 266.598437)scale(0.1 -0.1)\">\n       <defs>\n        <path id=\"DejaVuSans-36\" d=\"M 2113 2584  Q 1688 2584 1439 2293  Q 1191 2003 1191 1497  Q 1191 994 1439 701  Q 1688 409 2113 409  Q 2538 409 2786 701  Q 3034 994 3034 1497  Q 3034 2003 2786 2293  Q 2538 2584 2113 2584  z M 3366 4563  L 3366 3988  Q 3128 4100 2886 4159  Q 2644 4219 2406 4219  Q 1781 4219 1451 3797  Q 1122 3375 1075 2522  Q 1259 2794 1537 2939  Q 1816 3084 2150 3084  Q 2853 3084 3261 2657  Q 3669 2231 3669 1497  Q 3669 778 3244 343  Q 2819 -91 2113 -91  Q 1303 -91 875 529  Q 447 1150 447 2328  Q 447 3434 972 4092  Q 1497 4750 2381 4750  Q 2619 4750 2861 4703  Q 3103 4656 3366 4563  z \" transform=\"scale(0.015625)\"/>\n       </defs>\n       <use xlink:href=\"#DejaVuSans-36\"/>\n       <use xlink:href=\"#DejaVuSans-30\" x=\"63.623047\"/>\n       <use xlink:href=\"#DejaVuSans-30\" x=\"127.246094\"/>\n      </g>\n     </g>\n    </g>\n    <g id=\"xtick_5\">\n     <g id=\"line2d_5\">\n      <g>\n       <use xlink:href=\"#m93942413a1\" x=\"224.110618\" y=\"252\" style=\"stroke: #000000; stroke-width: 0.8\"/>\n      </g>\n     </g>\n     <g id=\"text_5\">\n      <!-- 800 -->\n      <g transform=\"translate(214.566868 266.598437)scale(0.1 -0.1)\">\n       <defs>\n        <path id=\"DejaVuSans-38\" d=\"M 2034 2216  Q 1584 2216 1326 1975  Q 1069 1734 1069 1313  Q 1069 891 1326 650  Q 1584 409 2034 409  Q 2484 409 2743 651  Q 3003 894 3003 1313  Q 3003 1734 2745 1975  Q 2488 2216 2034 2216  z M 1403 2484  Q 997 2584 770 2862  Q 544 3141 544 3541  Q 544 4100 942 4425  Q 1341 4750 2034 4750  Q 2731 4750 3128 4425  Q 3525 4100 3525 3541  Q 3525 3141 3298 2862  Q 3072 2584 2669 2484  Q 3125 2378 3379 2068  Q 3634 1759 3634 1313  Q 3634 634 3220 271  Q 2806 -91 2034 -91  Q 1263 -91 848 271  Q 434 634 434 1313  Q 434 1759 690 2068  Q 947 2378 1403 2484  z M 1172 3481  Q 1172 3119 1398 2916  Q 1625 2713 2034 2713  Q 2441 2713 2670 2916  Q 2900 3119 2900 3481  Q 2900 3844 2670 4047  Q 2441 4250 2034 4250  Q 1625 4250 1398 4047  Q 1172 3844 1172 3481  z \" transform=\"scale(0.015625)\"/>\n       </defs>\n       <use xlink:href=\"#DejaVuSans-38\"/>\n       <use xlink:href=\"#DejaVuSans-30\" x=\"63.623047\"/>\n       <use xlink:href=\"#DejaVuSans-30\" x=\"127.246094\"/>\n      </g>\n     </g>\n    </g>\n    <g id=\"xtick_6\">\n     <g id=\"line2d_6\">\n      <g>\n       <use xlink:href=\"#m93942413a1\" x=\"262.833727\" y=\"252\" style=\"stroke: #000000; stroke-width: 0.8\"/>\n      </g>\n     </g>\n     <g id=\"text_6\">\n      <!-- 1000 -->\n      <g transform=\"translate(250.108727 266.598437)scale(0.1 -0.1)\">\n       <defs>\n        <path id=\"DejaVuSans-31\" d=\"M 794 531  L 1825 531  L 1825 4091  L 703 3866  L 703 4441  L 1819 4666  L 2450 4666  L 2450 531  L 3481 531  L 3481 0  L 794 0  L 794 531  z \" transform=\"scale(0.015625)\"/>\n       </defs>\n       <use xlink:href=\"#DejaVuSans-31\"/>\n       <use xlink:href=\"#DejaVuSans-30\" x=\"63.623047\"/>\n       <use xlink:href=\"#DejaVuSans-30\" x=\"127.246094\"/>\n       <use xlink:href=\"#DejaVuSans-30\" x=\"190.869141\"/>\n      </g>\n     </g>\n    </g>\n    <g id=\"xtick_7\">\n     <g id=\"line2d_7\">\n      <g>\n       <use xlink:href=\"#m93942413a1\" x=\"301.556836\" y=\"252\" style=\"stroke: #000000; stroke-width: 0.8\"/>\n      </g>\n     </g>\n     <g id=\"text_7\">\n      <!-- 1200 -->\n      <g transform=\"translate(288.831836 266.598437)scale(0.1 -0.1)\">\n       <use xlink:href=\"#DejaVuSans-31\"/>\n       <use xlink:href=\"#DejaVuSans-32\" x=\"63.623047\"/>\n       <use xlink:href=\"#DejaVuSans-30\" x=\"127.246094\"/>\n       <use xlink:href=\"#DejaVuSans-30\" x=\"190.869141\"/>\n      </g>\n     </g>\n    </g>\n    <g id=\"xtick_8\">\n     <g id=\"line2d_8\">\n      <g>\n       <use xlink:href=\"#m93942413a1\" x=\"340.279944\" y=\"252\" style=\"stroke: #000000; stroke-width: 0.8\"/>\n      </g>\n     </g>\n     <g id=\"text_8\">\n      <!-- 1400 -->\n      <g transform=\"translate(327.554944 266.598437)scale(0.1 -0.1)\">\n       <use xlink:href=\"#DejaVuSans-31\"/>\n       <use xlink:href=\"#DejaVuSans-34\" x=\"63.623047\"/>\n       <use xlink:href=\"#DejaVuSans-30\" x=\"127.246094\"/>\n       <use xlink:href=\"#DejaVuSans-30\" x=\"190.869141\"/>\n      </g>\n     </g>\n    </g>\n    <g id=\"xtick_9\">\n     <g id=\"line2d_9\">\n      <g>\n       <use xlink:href=\"#m93942413a1\" x=\"379.003053\" y=\"252\" style=\"stroke: #000000; stroke-width: 0.8\"/>\n      </g>\n     </g>\n     <g id=\"text_9\">\n      <!-- 1600 -->\n      <g transform=\"translate(366.278053 266.598437)scale(0.1 -0.1)\">\n       <use xlink:href=\"#DejaVuSans-31\"/>\n       <use xlink:href=\"#DejaVuSans-36\" x=\"63.623047\"/>\n       <use xlink:href=\"#DejaVuSans-30\" x=\"127.246094\"/>\n       <use xlink:href=\"#DejaVuSans-30\" x=\"190.869141\"/>\n      </g>\n     </g>\n    </g>\n    <g id=\"text_10\">\n     <!-- Frame -->\n     <g transform=\"translate(205.820312 280.276563)scale(0.1 -0.1)\">\n      <defs>\n       <path id=\"DejaVuSans-46\" d=\"M 628 4666  L 3309 4666  L 3309 4134  L 1259 4134  L 1259 2759  L 3109 2759  L 3109 2228  L 1259 2228  L 1259 0  L 628 0  L 628 4666  z \" transform=\"scale(0.015625)\"/>\n       <path id=\"DejaVuSans-72\" d=\"M 2631 2963  Q 2534 3019 2420 3045  Q 2306 3072 2169 3072  Q 1681 3072 1420 2755  Q 1159 2438 1159 1844  L 1159 0  L 581 0  L 581 3500  L 1159 3500  L 1159 2956  Q 1341 3275 1631 3429  Q 1922 3584 2338 3584  Q 2397 3584 2469 3576  Q 2541 3569 2628 3553  L 2631 2963  z \" transform=\"scale(0.015625)\"/>\n       <path id=\"DejaVuSans-61\" d=\"M 2194 1759  Q 1497 1759 1228 1600  Q 959 1441 959 1056  Q 959 750 1161 570  Q 1363 391 1709 391  Q 2188 391 2477 730  Q 2766 1069 2766 1631  L 2766 1759  L 2194 1759  z M 3341 1997  L 3341 0  L 2766 0  L 2766 531  Q 2569 213 2275 61  Q 1981 -91 1556 -91  Q 1019 -91 701 211  Q 384 513 384 1019  Q 384 1609 779 1909  Q 1175 2209 1959 2209  L 2766 2209  L 2766 2266  Q 2766 2663 2505 2880  Q 2244 3097 1772 3097  Q 1472 3097 1187 3025  Q 903 2953 641 2809  L 641 3341  Q 956 3463 1253 3523  Q 1550 3584 1831 3584  Q 2591 3584 2966 3190  Q 3341 2797 3341 1997  z \" transform=\"scale(0.015625)\"/>\n       <path id=\"DejaVuSans-6d\" d=\"M 3328 2828  Q 3544 3216 3844 3400  Q 4144 3584 4550 3584  Q 5097 3584 5394 3201  Q 5691 2819 5691 2113  L 5691 0  L 5113 0  L 5113 2094  Q 5113 2597 4934 2840  Q 4756 3084 4391 3084  Q 3944 3084 3684 2787  Q 3425 2491 3425 1978  L 3425 0  L 2847 0  L 2847 2094  Q 2847 2600 2669 2842  Q 2491 3084 2119 3084  Q 1678 3084 1418 2786  Q 1159 2488 1159 1978  L 1159 0  L 581 0  L 581 3500  L 1159 3500  L 1159 2956  Q 1356 3278 1631 3431  Q 1906 3584 2284 3584  Q 2666 3584 2933 3390  Q 3200 3197 3328 2828  z \" transform=\"scale(0.015625)\"/>\n       <path id=\"DejaVuSans-65\" d=\"M 3597 1894  L 3597 1613  L 953 1613  Q 991 1019 1311 708  Q 1631 397 2203 397  Q 2534 397 2845 478  Q 3156 559 3463 722  L 3463 178  Q 3153 47 2828 -22  Q 2503 -91 2169 -91  Q 1331 -91 842 396  Q 353 884 353 1716  Q 353 2575 817 3079  Q 1281 3584 2069 3584  Q 2775 3584 3186 3129  Q 3597 2675 3597 1894  z M 3022 2063  Q 3016 2534 2758 2815  Q 2500 3097 2075 3097  Q 1594 3097 1305 2825  Q 1016 2553 972 2059  L 3022 2063  z \" transform=\"scale(0.015625)\"/>\n      </defs>\n      <use xlink:href=\"#DejaVuSans-46\"/>\n      <use xlink:href=\"#DejaVuSans-72\" x=\"50.269531\"/>\n      <use xlink:href=\"#DejaVuSans-61\" x=\"91.382812\"/>\n      <use xlink:href=\"#DejaVuSans-6d\" x=\"152.662109\"/>\n      <use xlink:href=\"#DejaVuSans-65\" x=\"250.074219\"/>\n     </g>\n    </g>\n   </g>\n   <g id=\"matplotlib.axis_2\">\n    <g id=\"ytick_1\">\n     <g id=\"line2d_10\">\n      <defs>\n       <path id=\"me5b0fcd022\" d=\"M 0 0  L -3.5 0  \" style=\"stroke: #000000; stroke-width: 0.8\"/>\n      </defs>\n      <g>\n       <use xlink:href=\"#me5b0fcd022\" x=\"54\" y=\"235.104576\" style=\"stroke: #000000; stroke-width: 0.8\"/>\n      </g>\n     </g>\n     <g id=\"text_11\">\n      <!-- 84 -->\n      <g transform=\"translate(34.275 238.903795)scale(0.1 -0.1)\">\n       <use xlink:href=\"#DejaVuSans-38\"/>\n       <use xlink:href=\"#DejaVuSans-34\" x=\"63.623047\"/>\n      </g>\n     </g>\n    </g>\n    <g id=\"ytick_2\">\n     <g id=\"line2d_11\">\n      <g>\n       <use xlink:href=\"#me5b0fcd022\" x=\"54\" y=\"207.979674\" style=\"stroke: #000000; stroke-width: 0.8\"/>\n      </g>\n     </g>\n     <g id=\"text_12\">\n      <!-- 86 -->\n      <g transform=\"translate(34.275 211.778893)scale(0.1 -0.1)\">\n       <use xlink:href=\"#DejaVuSans-38\"/>\n       <use xlink:href=\"#DejaVuSans-36\" x=\"63.623047\"/>\n      </g>\n     </g>\n    </g>\n    <g id=\"ytick_3\">\n     <g id=\"line2d_12\">\n      <g>\n       <use xlink:href=\"#me5b0fcd022\" x=\"54\" y=\"180.854771\" style=\"stroke: #000000; stroke-width: 0.8\"/>\n      </g>\n     </g>\n     <g id=\"text_13\">\n      <!-- 88 -->\n      <g transform=\"translate(34.275 184.65399)scale(0.1 -0.1)\">\n       <use xlink:href=\"#DejaVuSans-38\"/>\n       <use xlink:href=\"#DejaVuSans-38\" x=\"63.623047\"/>\n      </g>\n     </g>\n    </g>\n    <g id=\"ytick_4\">\n     <g id=\"line2d_13\">\n      <g>\n       <use xlink:href=\"#me5b0fcd022\" x=\"54\" y=\"153.729869\" style=\"stroke: #000000; stroke-width: 0.8\"/>\n      </g>\n     </g>\n     <g id=\"text_14\">\n      <!-- 90 -->\n      <g transform=\"translate(34.275 157.529087)scale(0.1 -0.1)\">\n       <defs>\n        <path id=\"DejaVuSans-39\" d=\"M 703 97  L 703 672  Q 941 559 1184 500  Q 1428 441 1663 441  Q 2288 441 2617 861  Q 2947 1281 2994 2138  Q 2813 1869 2534 1725  Q 2256 1581 1919 1581  Q 1219 1581 811 2004  Q 403 2428 403 3163  Q 403 3881 828 4315  Q 1253 4750 1959 4750  Q 2769 4750 3195 4129  Q 3622 3509 3622 2328  Q 3622 1225 3098 567  Q 2575 -91 1691 -91  Q 1453 -91 1209 -44  Q 966 3 703 97  z M 1959 2075  Q 2384 2075 2632 2365  Q 2881 2656 2881 3163  Q 2881 3666 2632 3958  Q 2384 4250 1959 4250  Q 1534 4250 1286 3958  Q 1038 3666 1038 3163  Q 1038 2656 1286 2365  Q 1534 2075 1959 2075  z \" transform=\"scale(0.015625)\"/>\n       </defs>\n       <use xlink:href=\"#DejaVuSans-39\"/>\n       <use xlink:href=\"#DejaVuSans-30\" x=\"63.623047\"/>\n      </g>\n     </g>\n    </g>\n    <g id=\"ytick_5\">\n     <g id=\"line2d_14\">\n      <g>\n       <use xlink:href=\"#me5b0fcd022\" x=\"54\" y=\"126.604966\" style=\"stroke: #000000; stroke-width: 0.8\"/>\n      </g>\n     </g>\n     <g id=\"text_15\">\n      <!-- 92 -->\n      <g transform=\"translate(34.275 130.404185)scale(0.1 -0.1)\">\n       <use xlink:href=\"#DejaVuSans-39\"/>\n       <use xlink:href=\"#DejaVuSans-32\" x=\"63.623047\"/>\n      </g>\n     </g>\n    </g>\n    <g id=\"ytick_6\">\n     <g id=\"line2d_15\">\n      <g>\n       <use xlink:href=\"#me5b0fcd022\" x=\"54\" y=\"99.480064\" style=\"stroke: #000000; stroke-width: 0.8\"/>\n      </g>\n     </g>\n     <g id=\"text_16\">\n      <!-- 94 -->\n      <g transform=\"translate(34.275 103.279282)scale(0.1 -0.1)\">\n       <use xlink:href=\"#DejaVuSans-39\"/>\n       <use xlink:href=\"#DejaVuSans-34\" x=\"63.623047\"/>\n      </g>\n     </g>\n    </g>\n    <g id=\"ytick_7\">\n     <g id=\"line2d_16\">\n      <g>\n       <use xlink:href=\"#me5b0fcd022\" x=\"54\" y=\"72.355161\" style=\"stroke: #000000; stroke-width: 0.8\"/>\n      </g>\n     </g>\n     <g id=\"text_17\">\n      <!-- 96 -->\n      <g transform=\"translate(34.275 76.15438)scale(0.1 -0.1)\">\n       <use xlink:href=\"#DejaVuSans-39\"/>\n       <use xlink:href=\"#DejaVuSans-36\" x=\"63.623047\"/>\n      </g>\n     </g>\n    </g>\n    <g id=\"ytick_8\">\n     <g id=\"line2d_17\">\n      <g>\n       <use xlink:href=\"#me5b0fcd022\" x=\"54\" y=\"45.230259\" style=\"stroke: #000000; stroke-width: 0.8\"/>\n      </g>\n     </g>\n     <g id=\"text_18\">\n      <!-- 98 -->\n      <g transform=\"translate(34.275 49.029477)scale(0.1 -0.1)\">\n       <use xlink:href=\"#DejaVuSans-39\"/>\n       <use xlink:href=\"#DejaVuSans-38\" x=\"63.623047\"/>\n      </g>\n     </g>\n    </g>\n    <g id=\"text_19\">\n     <!-- Angle -->\n     <g transform=\"translate(28.195312 157.508906)rotate(-90)scale(0.1 -0.1)\">\n      <defs>\n       <path id=\"DejaVuSans-41\" d=\"M 2188 4044  L 1331 1722  L 3047 1722  L 2188 4044  z M 1831 4666  L 2547 4666  L 4325 0  L 3669 0  L 3244 1197  L 1141 1197  L 716 0  L 50 0  L 1831 4666  z \" transform=\"scale(0.015625)\"/>\n       <path id=\"DejaVuSans-6e\" d=\"M 3513 2113  L 3513 0  L 2938 0  L 2938 2094  Q 2938 2591 2744 2837  Q 2550 3084 2163 3084  Q 1697 3084 1428 2787  Q 1159 2491 1159 1978  L 1159 0  L 581 0  L 581 3500  L 1159 3500  L 1159 2956  Q 1366 3272 1645 3428  Q 1925 3584 2291 3584  Q 2894 3584 3203 3211  Q 3513 2838 3513 2113  z \" transform=\"scale(0.015625)\"/>\n       <path id=\"DejaVuSans-67\" d=\"M 2906 1791  Q 2906 2416 2648 2759  Q 2391 3103 1925 3103  Q 1463 3103 1205 2759  Q 947 2416 947 1791  Q 947 1169 1205 825  Q 1463 481 1925 481  Q 2391 481 2648 825  Q 2906 1169 2906 1791  z M 3481 434  Q 3481 -459 3084 -895  Q 2688 -1331 1869 -1331  Q 1566 -1331 1297 -1286  Q 1028 -1241 775 -1147  L 775 -588  Q 1028 -725 1275 -790  Q 1522 -856 1778 -856  Q 2344 -856 2625 -561  Q 2906 -266 2906 331  L 2906 616  Q 2728 306 2450 153  Q 2172 0 1784 0  Q 1141 0 747 490  Q 353 981 353 1791  Q 353 2603 747 3093  Q 1141 3584 1784 3584  Q 2172 3584 2450 3431  Q 2728 3278 2906 2969  L 2906 3500  L 3481 3500  L 3481 434  z \" transform=\"scale(0.015625)\"/>\n       <path id=\"DejaVuSans-6c\" d=\"M 603 4863  L 1178 4863  L 1178 0  L 603 0  L 603 4863  z \" transform=\"scale(0.015625)\"/>\n      </defs>\n      <use xlink:href=\"#DejaVuSans-41\"/>\n      <use xlink:href=\"#DejaVuSans-6e\" x=\"68.408203\"/>\n      <use xlink:href=\"#DejaVuSans-67\" x=\"131.787109\"/>\n      <use xlink:href=\"#DejaVuSans-6c\" x=\"195.263672\"/>\n      <use xlink:href=\"#DejaVuSans-65\" x=\"223.046875\"/>\n     </g>\n    </g>\n   </g>\n   <g id=\"line2d_18\">\n    <path d=\"M 69.218182 206.175868  L 69.411797 210.217478  L 69.799028 185.235443  L 69.992644 180.922584  L 70.18626 185.126943  L 70.379875 180.664897  L 70.767106 158.178353  L 70.960722 90.474596  L 71.154337 93.105712  L 71.347953 101.677181  L 71.541568 123.268603  L 71.735184 209.444419  L 71.928799 210.312415  L 72.122415 206.609866  L 72.316031 113.449388  L 72.509646 200.696637  L 72.703262 199.801516  L 72.896877 108.75678  L 73.090493 126.442217  L 73.284108 130.958513  L 73.477724 99.84625  L 73.671339 104.864357  L 73.864955 113.110327  L 74.05857 181.858393  L 74.252186 119.471117  L 74.445802 100.971933  L 74.639417 202.297007  L 74.833033 203.327753  L 75.026648 209.946229  L 75.220264 206.596304  L 75.413879 214.028527  L 75.607495 208.522172  L 75.80111 199.21833  L 75.994726 181.07177  L 76.188341 201.537509  L 76.381957 198.540208  L 76.575573 181.397269  L 76.769188 177.220034  L 76.962804 177.260722  L 77.156419 186.781562  L 77.350035 178.915341  L 77.54365 186.795125  L 77.737266 161.351966  L 78.124497 220.565629  L 78.318112 207.111677  L 78.511728 208.766296  L 78.705344 208.942608  L 78.898959 208.386547  L 79.092575 209.539356  L 79.479806 192.220105  L 79.673421 187.269811  L 79.867037 202.120695  L 80.060652 192.667666  L 80.254268 192.708354  L 80.447883 187.608872  L 80.641499 167.197383  L 80.835115 166.966821  L 81.02873 177.260722  L 81.222346 102.545178  L 81.415961 97.188009  L 81.609577 99.046065  L 81.803192 115.917755  L 81.996808 106.695288  L 82.190423 115.076883  L 82.77127 78.661701  L 82.964885 96.062326  L 83.158501 73.101096  L 83.352117 73.318095  L 83.545732 94.448394  L 83.739348 178.101594  L 83.932963 70.212294  L 84.126579 86.690672  L 84.320194 198.228271  L 84.51381 93.336273  L 84.707425 203.137879  L 84.901041 101.717868  L 85.094656 216.781705  L 85.288272 104.077735  L 85.481888 116.419565  L 85.675503 220.145193  L 85.869119 211.031225  L 86.062734 106.844475  L 86.25635 213.038468  L 86.449965 105.569604  L 86.643581 131.690885  L 86.837196 242.116364  L 87.030812 139.028172  L 87.224427 228.933661  L 87.418043 238.38669  L 87.611659 129.67008  L 87.805274 109.068717  L 87.99889 204.073688  L 88.192505 102.084054  L 88.386121 87.653606  L 88.579736 104.443921  L 88.966967 114.846321  L 89.160583 111.862582  L 89.354198 101.527994  L 89.547814 194.376535  L 89.935045 205.362121  L 90.128661 93.933021  L 90.515892 127.161027  L 90.709507 109.204341  L 90.903123 109.041592  L 91.096738 127.540775  L 91.483969 137.41424  L 91.871201 126.211655  L 92.064816 124.163725  L 92.452047 133.833753  L 92.645663 123.187228  L 92.839278 119.552492  L 93.032894 126.306592  L 93.226509 110.018088  L 93.420125 119.647429  L 93.61374 111.184459  L 93.807356 111.699832  L 94.000972 104.565983  L 94.194587 118.087747  L 94.581818 98.747691  L 94.775434 99.005378  L 95.162665 73.928405  L 95.35628 82.933873  L 95.549896 99.005378  L 95.743511 94.950205  L 96.130743 113.829137  L 96.517974 101.663618  L 96.711589 97.68982  L 97.09882 84.113806  L 97.292436 176.853848  L 97.486051 190.877423  L 97.679667 179.403589  L 97.873282 190.579049  L 98.454129 175.117854  L 98.84136 180.56996  L 99.034976 177.152222  L 99.228591 101.961992  L 99.422207 118.49462  L 99.615822 117.057  L 99.809438 122.915979  L 100.003053 118.698057  L 100.196669 196.50584  L 100.390285 209.281669  L 100.5839 209.580043  L 100.777516 189.561865  L 100.971131 195.298782  L 101.164747 114.588634  L 101.358362 202.256319  L 101.551978 186.849375  L 101.939209 200.845824  L 102.132824 206.989615  L 102.32644 209.159607  L 102.520056 188.992242  L 102.713671 191.02661  L 102.907287 185.642317  L 103.100902 192.287918  L 103.294518 176.243538  L 103.488133 199.516704  L 103.875364 181.383707  L 104.06898 192.681229  L 104.262595 217.215703  L 104.456211 219.765444  L 104.649827 214.516775  L 104.843442 225.1633  L 105.037058 221.298001  L 105.230673 214.59815  L 105.424289 217.269953  L 105.617904 231.686839  L 105.81152 131.243324  L 106.005135 225.312487  L 106.198751 133.521816  L 106.392366 138.255112  L 106.585982 128.720709  L 106.973213 148.833824  L 107.166829 142.12041  L 107.360444 129.548018  L 107.55406 140.492916  L 107.941291 134.783124  L 108.134906 151.41069  L 108.328522 130.836451  L 108.522137 216.64608  L 108.715753 124.529911  L 108.909368 217.283515  L 109.102984 198.784332  L 109.2966 207.111677  L 109.490215 197.984147  L 109.683831 194.647784  L 109.877446 113.924074  L 110.071062 121.491922  L 110.264677 213.675903  L 110.458293 201.998633  L 110.651908 198.174022  L 110.845524 112.852641  L 111.039139 129.941329  L 111.232755 223.183182  L 111.426371 135.691809  L 111.619986 124.638411  L 112.007217 135.556184  L 112.394448 120.718862  L 112.588064 95.085829  L 113.16891 127.595025  L 113.362526 114.181761  L 113.749757 108.404157  L 114.136988 113.028952  L 114.330604 207.559238  L 114.524219 119.37618  L 114.717835 112.567829  L 114.91145 112.160956  L 115.105066 116.107629  L 115.298681 183.906323  L 115.492297 178.142281  L 115.685913 104.60667  L 115.879528 123.797539  L 116.073144 130.456702  L 116.266759 124.258662  L 116.460375 123.227916  L 116.847606 151.532752  L 117.041221 131.148387  L 117.234837 200.615263  L 117.428452 189.317741  L 117.622068 99.859812  L 117.815684 118.833682  L 118.202915 92.508964  L 118.39653 108.499094  L 118.590146 92.278402  L 118.783761 91.559592  L 118.977377 116.880689  L 119.170992 186.496751  L 119.364608 99.480064  L 119.558223 93.64821  L 119.751839 112.283018  L 119.945455 192.491354  L 120.13907 93.078587  L 120.526301 119.457554  L 120.719917 96.699761  L 121.107148 121.708921  L 121.494379 97.486383  L 121.687994 100.483685  L 121.88161 95.47914  L 122.075226 98.178068  L 122.462457 123.132979  L 122.656072 121.586859  L 122.849688 112.811953  L 123.236919 128.096836  L 123.430534 207.030302  L 123.62415 216.75458  L 123.817765 203.856689  L 124.011381 230.235656  L 124.204997 152.753372  L 124.398612 136.03087  L 124.592228 144.154778  L 124.785843 217.853138  L 125.173074 207.233739  L 125.36669 133.386192  L 125.560305 107.631097  L 125.753921 194.186661  L 125.947536 195.285219  L 126.141152 187.554622  L 126.334768 197.251775  L 126.528383 190.050113  L 126.721999 192.681229  L 126.915614 187.663122  L 127.10923 217.36489  L 127.496461 180.054587  L 127.690076 183.648636  L 127.883692 190.063676  L 128.077307 178.616967  L 128.270923 194.539285  L 128.464539 187.730934  L 128.658154 197.99771  L 128.85177 200.09989  L 129.045385 182.67214  L 129.239001 199.869328  L 129.432616 191.569108  L 129.626232 210.136104  L 129.819847 202.595381  L 130.207078 207.206614  L 130.400694 182.319516  L 130.59431 184.489508  L 130.787925 196.058279  L 130.981541 194.674909  L 131.175156 171.252556  L 131.368772 192.111606  L 131.562387 190.755361  L 131.756003 187.283373  L 131.949618 96.808261  L 132.143234 80.275633  L 132.336849 165.502076  L 132.530465 165.257952  L 132.72408 189.64324  L 132.917696 187.093499  L 133.304927 174.26342  L 133.498543 193.617038  L 133.692158 191.324984  L 133.885774 200.330451  L 134.079389 199.136956  L 134.273005 207.6813  L 134.660236 186.700188  L 134.853851 193.250852  L 135.241083 166.031012  L 135.434698 171.944241  L 135.628314 167.685631  L 135.821929 193.07454  L 136.015545 186.564563  L 136.20916 106.952974  L 136.402776 99.032503  L 136.596391 84.642742  L 136.790007 179.267964  L 136.983622 168.635003  L 137.370854 189.53474  L 137.564469 191.826794  L 137.758085 178.644092  L 137.9517 174.521107  L 138.145316 177.871032  L 138.338931 178.277906  L 138.532547 163.521959  L 138.726162 164.240768  L 138.919778 174.656731  L 139.113393 165.271515  L 139.307009 176.704661  L 139.500625 180.285148  L 139.69424 166.899009  L 140.081471 186.198377  L 140.275087 188.937992  L 140.468702 109.665465  L 140.662318 186.062753  L 140.855933 190.131488  L 141.049549 98.490005  L 141.243164 97.662695  L 141.43678 175.484041  L 141.630396 167.604256  L 141.824011 183.201075  L 142.211242 193.603475  L 142.404858 204.236437  L 142.598473 196.763527  L 142.792089 181.153145  L 142.985704 109.082279  L 143.17932 121.396985  L 143.372935 194.200223  L 143.566551 212.712969  L 143.760167 205.985993  L 143.953782 207.342239  L 144.147398 206.460679  L 144.341013 189.521178  L 144.534629 187.391873  L 144.728244 179.118777  L 144.92186 184.245384  L 145.309091 198.201146  L 145.502706 191.704732  L 145.696322 197.604399  L 145.889938 210.732851  L 146.083553 185.94069  L 146.277169 182.753514  L 146.470784 193.698413  L 146.6644 214.164152  L 146.858015 187.134186  L 147.051631 189.711052  L 147.245246 213.920027  L 147.438862 190.280675  L 147.632477 96.957448  L 147.826093 180.637772  L 148.019709 163.969519  L 148.40694 196.600777  L 148.600555 196.248153  L 148.794171 185.43888  L 148.987786 185.398192  L 149.181402 187.079936  L 149.375017 99.792  L 149.568633 100.497247  L 149.762248 125.804782  L 150.14948 102.531615  L 150.343095 119.511804  L 150.536711 115.510881  L 150.730326 202.975129  L 150.923942 205.850369  L 151.117557 195.746343  L 151.311173 205.958869  L 151.504788 205.565557  L 151.892019 210.366665  L 152.085635 200.113452  L 152.279251 208.495047  L 152.472866 199.570954  L 152.666482 215.37121  L 152.860097 192.192981  L 153.053713 78.960075  L 153.247328 89.986348  L 153.440944 176.474099  L 153.634559 182.224579  L 153.828175 184.05551  L 154.02179 182.72639  L 154.215406 184.747195  L 154.409022 199.245455  L 154.602637 106.81735  L 154.796253 197.22465  L 154.989868 202.283444  L 155.183484 199.367517  L 155.377099 183.445199  L 155.76433 196.61434  L 155.957946 178.427092  L 156.151561 197.1704  L 156.345177 180.895459  L 156.538793 181.261645  L 156.732408 195.773468  L 156.926024 177.993094  L 157.119639 180.298711  L 157.313255 175.714602  L 157.50687 121.085048  L 157.894101 123.431353  L 158.087717 185.588067  L 158.281332 205.267184  L 158.474948 207.382926  L 158.668563 206.270805  L 158.862179 211.044788  L 159.055795 205.714744  L 159.24941 204.019438  L 159.443026 118.44037  L 159.636641 188.476869  L 159.830257 179.769775  L 160.411103 216.944454  L 160.604719 136.53268  L 160.798334 200.384701  L 160.99195 113.286639  L 161.185566 185.072694  L 161.379181 193.060977  L 161.766412 214.788024  L 161.960028 205.172246  L 162.153643 223.047557  L 162.347259 129.141145  L 162.540874 122.69898  L 162.73449 146.270521  L 162.928105 141.048977  L 163.121721 118.942181  L 163.315337 121.247798  L 163.508952 130.239703  L 163.702568 129.61583  L 163.896183 198.838582  L 164.283414 206.745491  L 164.47703 202.459756  L 164.670645 180.990396  L 164.864261 198.418146  L 165.057876 185.900003  L 165.251492 200.913637  L 165.445108 199.747266  L 165.832339 221.487875  L 166.025954 202.188507  L 166.21957 211.533036  L 166.413185 211.980597  L 166.800416 176.2571  L 166.994032 188.25987  L 167.187647 190.294237  L 167.381263 195.597156  L 167.574879 196.207466  L 167.768494 189.805989  L 167.96211 191.609795  L 168.155725 184.815007  L 168.349341 173.205549  L 168.542956 170.262497  L 168.736572 83.001685  L 168.930187 62.99707  L 169.123803 153.051746  L 169.317418 102.735052  L 169.511034 101.527994  L 169.70465 89.538787  L 169.898265 174.385482  L 170.091881 94.665393  L 170.285496 70.727667  L 170.479112 76.139085  L 170.672727 87.626481  L 171.059958 72.78916  L 171.253574 167.333007  L 171.447189 150.257881  L 171.640805 160.673844  L 171.834421 90.325409  L 172.028036 90.135535  L 172.221652 97.13376  L 172.608883 90.284722  L 172.802498 72.545035  L 172.996114 80.601131  L 173.383345 67.621866  L 173.57696 144.114091  L 173.770576 44.443636  L 173.964192 150.054444  L 174.157807 169.530124  L 174.545038 161.338404  L 174.738654 165.895387  L 174.932269 167.224508  L 175.3195 178.060906  L 175.706731 166.166637  L 175.900347 172.974987  L 176.093963 173.002112  L 176.481194 170.791432  L 176.674809 186.6595  L 176.868425 186.862937  L 177.642887 167.23807  L 177.836502 174.466857  L 178.030118 171.320368  L 178.223734 140.12673  L 178.417349 173.097049  L 178.610965 179.484964  L 178.80458 180.258023  L 179.191811 164.864641  L 179.385427 169.231751  L 179.579042 167.550007  L 180.159889 188.503994  L 180.353505 189.928051  L 180.54712 202.622506  L 180.740736 193.291539  L 180.934351 95.831764  L 181.127967 106.193477  L 181.321582 196.804214  L 181.515198 121.071486  L 181.708813 119.783053  L 181.902429 131.012763  L 182.096044 120.054302  L 182.28966 125.872594  L 182.483276 140.574291  L 182.676891 128.815646  L 182.870507 146.365458  L 183.257738 126.713466  L 183.451353 133.92869  L 183.838584 128.774958  L 184.0322 139.679169  L 184.613046 121.708921  L 184.806662 202.853067  L 185.000278 210.773539  L 185.193893 136.776805  L 185.581124 161.121405  L 185.968355 139.557107  L 186.161971 161.989402  L 186.355586 131.338262  L 186.549202 127.350901  L 186.742817 138.092362  L 186.936433 136.03087  L 187.130049 132.640257  L 187.323664 124.774035  L 187.51728 144.507402  L 187.904511 130.226141  L 188.098126 115.483756  L 188.291742 118.291184  L 188.485357 114.45301  L 188.872588 127.893399  L 189.066204 129.61583  L 189.25982 124.828285  L 189.647051 134.661062  L 189.840666 123.47204  L 190.034282 120.311989  L 190.227897 134.579688  L 190.421513 121.207111  L 191.195975 109.611215  L 191.389591 115.049758  L 191.583206 138.214424  L 191.970437 117.585936  L 192.164053 104.213359  L 192.357668 110.85896  L 192.551284 108.97378  L 192.744899 110.35715  L 192.938515 104.864357  L 193.13213 108.675406  L 193.325746 98.747691  L 193.519362 115.660068  L 193.906593 104.76942  L 194.100208 118.304746  L 194.293824 178.671217  L 194.487439 107.386973  L 194.681055 94.109333  L 194.87467 115.415944  L 195.068286 102.382428  L 195.455517 134.199939  L 195.649133 138.404299  L 195.842748 139.028172  L 196.036364 124.74691  L 196.229979 123.607664  L 196.423595 135.217123  L 196.61721 203.002254  L 196.810826 213.472467  L 197.391672 181.07177  L 197.585288 114.697134  L 197.778904 190.009426  L 197.972519 187.812309  L 198.166135 201.713821  L 198.35975 203.707502  L 198.553366 206.976052  L 198.940597 218.80251  L 199.134212 216.469768  L 199.327828 217.175016  L 199.521443 215.642459  L 199.908675 192.057356  L 200.295906 199.245455  L 200.489521 117.965685  L 200.683137 107.861659  L 200.876752 122.007295  L 201.070368 213.201218  L 201.263983 117.043438  L 201.457599 123.634789  L 201.651214 118.765869  L 201.84483 182.197454  L 202.038446 95.845327  L 202.232061 105.108481  L 202.425677 107.142849  L 202.619292 105.352605  L 202.812908 123.227916  L 203.006523 95.180767  L 203.200139 117.328249  L 203.393754 179.267964  L 203.58737 96.848948  L 203.780985 132.477508  L 203.974601 209.227419  L 204.168217 198.391021  L 204.361832 204.534811  L 204.555448 198.404583  L 204.749063 132.504632  L 204.942679 120.976549  L 205.136294 118.372558  L 205.32991 121.722484  L 205.523525 132.626695  L 205.717141 123.716164  L 205.910756 130.009141  L 206.104372 115.049758  L 206.491603 128.463022  L 206.685219 125.41147  L 206.878834 138.1873  L 207.266065 122.102232  L 207.459681 122.726105  L 207.653296 210.027604  L 207.846912 207.938986  L 208.040527 201.456135  L 208.234143 219.236508  L 208.427759 137.726176  L 208.621374 198.55377  L 208.81499 207.125239  L 209.008605 119.715241  L 209.202221 120.474738  L 209.395836 113.869824  L 209.589452 127.703525  L 210.170298 102.477365  L 210.363914 108.390594  L 210.557529 106.912287  L 210.944761 99.656375  L 211.138376 101.799243  L 211.331992 91.369718  L 211.525607 101.650056  L 211.912838 79.177074  L 212.493685 123.838226  L 212.6873 134.254189  L 213.074532 108.471969  L 213.461763 128.883458  L 213.655378 122.563356  L 213.848994 129.995579  L 214.042609 120.5968  L 214.236225 136.614055  L 214.42984 139.177358  L 214.817071 140.73704  L 215.010687 170.221809  L 215.204303 149.606884  L 215.397918 147.314829  L 215.591534 118.453933  L 215.785149 110.479212  L 215.978765 110.411399  L 216.17238 122.970229  L 216.559611 129.344581  L 216.753227 110.3029  L 216.946842 114.141073  L 217.140458 102.355303  L 217.334074 123.539852  L 217.527689 118.467495  L 217.721305 122.427731  L 217.91492 141.103227  L 218.108536 173.748047  L 218.302151 159.385411  L 218.495767 167.387257  L 218.882998 157.825729  L 219.076613 65.506123  L 219.270229 114.086824  L 219.463845 100.470123  L 219.65746 110.058776  L 219.851076 92.142777  L 220.044691 98.46288  L 220.238307 76.993519  L 220.625538 104.009922  L 220.819153 104.05061  L 221.012769 99.493626  L 221.206384 119.783053  L 221.4 96.211513  L 221.593616 88.711477  L 221.787231 103.603049  L 221.980847 88.223229  L 222.174462 89.810036  L 222.561693 81.157192  L 222.755309 85.687051  L 222.948924 72.043225  L 223.14254 50.32974  L 223.336155 87.450169  L 223.529771 80.777443  L 223.723387 80.194258  L 223.917002 93.024337  L 224.110618 71.921163  L 224.304233 73.819906  L 224.497849 88.657228  L 224.88508 69.317172  L 225.272311 93.390523  L 225.465926 98.788379  L 225.659542 83.489934  L 225.853158 88.847102  L 226.046773 73.480845  L 226.240389 85.944737  L 226.434004 89.904973  L 226.62762 61.952761  L 226.821235 83.042373  L 227.014851 70.022419  L 227.208466 82.662624  L 227.402082 79.556823  L 227.595697 87.857043  L 227.789313 82.377813  L 227.982929 94.950205  L 228.176544 59.728519  L 228.37016 74.633653  L 228.563775 77.536017  L 228.757391 71.609226  L 228.951006 75.460962  L 229.144622 152.712685  L 229.531853 179.674838  L 229.725468 95.357078  L 229.919084 108.607593  L 230.1127 109.326403  L 230.306315 91.071344  L 230.693546 94.448394  L 231.080777 130.755076  L 231.274393 129.453081  L 231.468008 123.892476  L 231.661624 127.784899  L 231.855239 122.14292  L 232.048855 191.270734  L 232.242471 118.725182  L 232.436086 119.281242  L 232.629702 108.824593  L 232.823317 106.980099  L 233.016933 125.913281  L 233.210548 121.017236  L 233.404164 106.790225  L 233.597779 109.624777  L 233.791395 102.694365  L 233.98501 83.842557  L 234.178626 84.303681  L 234.372241 85.334427  L 234.565857 88.480916  L 234.759473 74.742153  L 234.953088 97.405009  L 235.146704 93.037899  L 235.340319 92.427589  L 235.72755 100.985496  L 235.921166 102.138304  L 236.308397 98.164506  L 236.502012 100.185311  L 236.695628 99.398689  L 236.889244 108.648281  L 237.082859 103.697986  L 237.276475 104.484608  L 237.663706 126.170968  L 237.857321 122.115795  L 238.050937 125.46572  L 238.244552 97.459258  L 238.438168 86.636422  L 238.631783 105.298355  L 238.825399 105.122043  L 239.019015 98.273005  L 239.21263 195.095345  L 239.406246 188.20562  L 239.599861 200.276201  L 239.793477 192.450667  L 239.987092 89.308225  L 240.180708 102.545178  L 240.374323 87.707856  L 240.567939 183.160388  L 240.761554 172.7173  L 241.148786 189.263491  L 241.342401 180.800521  L 241.536017 107.834534  L 241.729632 93.512585  L 242.310479 115.253194  L 242.504094 117.979247  L 242.69771 123.200791  L 242.891325 120.556113  L 243.084941 116.365315  L 243.278557 134.769562  L 243.472172 116.080504  L 243.665788 114.032574  L 243.859403 110.031651  L 244.053019 119.349055  L 244.246634 108.75678  L 244.44025 119.443992  L 244.633865 118.236934  L 244.827481 123.58054  L 245.021096 207.220177  L 245.214712 116.840001  L 245.408328 136.112245  L 245.795559 115.144695  L 245.989174 187.215561  L 246.18279 187.920808  L 246.376405 112.96114  L 246.570021 122.183607  L 246.957252 93.187086  L 247.344483 120.013615  L 247.538099 117.1655  L 247.731714 119.349055  L 247.92533 125.872594  L 248.312561 113.57145  L 248.699792 95.763952  L 248.893407 104.037047  L 249.087023 94.828143  L 249.280638 100.741372  L 249.474254 192.559167  L 249.66787 100.375185  L 249.861485 99.263064  L 250.055101 112.18808  L 250.442332 77.088457  L 250.635947 81.970939  L 250.829563 81.130067  L 251.023178 72.884097  L 251.216794 80.967318  L 251.410409 64.977188  L 251.604025 87.789231  L 251.797641 91.301906  L 251.991256 81.876002  L 252.184872 91.763029  L 252.378487 86.093924  L 252.572103 93.905896  L 252.765718 179.484964  L 252.959334 174.507544  L 253.152949 87.857043  L 253.346565 75.352463  L 253.54018 72.57216  L 253.733796 82.879623  L 253.927412 81.292816  L 254.121027 96.442075  L 254.314643 82.011626  L 254.508258 174.046421  L 254.701874 165.257952  L 254.895489 181.668518  L 255.089105 82.404937  L 255.28272 86.107487  L 255.476336 104.308296  L 255.669951 89.565912  L 255.863567 104.335421  L 256.057183 100.605747  L 256.250798 86.989046  L 256.444414 185.221881  L 256.638029 172.690176  L 256.831645 105.43398  L 257.02526 183.838511  L 257.218876 101.826368  L 257.412491 102.314616  L 257.799722 84.737679  L 257.993338 99.547876  L 258.380569 93.919459  L 258.574185 72.62641  L 258.7678 94.950205  L 258.961416 86.717797  L 259.155031 184.082635  L 259.348647 175.75529  L 259.542262 109.448465  L 259.735878 89.430287  L 259.929493 120.678175  L 260.123109 211.302474  L 260.316724 118.779432  L 260.51034 124.882535  L 260.703956 103.128363  L 260.897571 104.688045  L 261.091187 176.867411  L 261.284802 79.529698  L 261.478418 168.146754  L 261.672033 167.943318  L 261.865649 93.390523  L 262.059264 193.359351  L 262.25288 119.93224  L 262.446495 214.679525  L 262.640111 215.588209  L 262.833727 226.926418  L 263.027342 211.085475  L 263.220958 141.56435  L 263.414573 219.996006  L 263.608189 139.950418  L 263.801804 197.672211  L 263.99542 211.953472  L 264.189035 191.908169  L 264.382651 188.639618  L 264.769882 204.995935  L 264.963498 111.02171  L 265.157113 104.037047  L 265.350729 208.413672  L 265.544344 118.684495  L 265.73796 203.097191  L 265.931575 121.125736  L 266.125191 206.202993  L 266.318806 194.091724  L 266.512422 215.018586  L 266.706037 126.306592  L 266.899653 206.24368  L 267.093269 201.496822  L 267.286884 201.903696  L 267.4805 190.606174  L 268.061346 204.08725  L 268.254962 199.123393  L 268.448577 185.398192  L 268.642193 197.645086  L 268.835808 200.384701  L 269.029424 197.373837  L 269.610271 208.793421  L 269.803886 207.857612  L 269.997502 198.336771  L 270.191117 197.197525  L 270.384733 186.496751  L 270.578348 198.201146  L 270.771964 198.526645  L 270.965579 198.133334  L 271.159195 189.738177  L 271.546426 187.161311  L 271.740042 183.17395  L 271.933657 214.313339  L 272.127273 195.800593  L 272.320888 193.644163  L 272.514504 175.741727  L 272.708119 175.456916  L 272.901735 197.617961  L 273.09535 196.61434  L 273.288966 193.400039  L 273.482582 197.577274  L 273.676197 186.062753  L 273.869813 186.361126  L 274.063428 208.712046  L 274.257044 209.715668  L 274.450659 202.86663  L 274.644275 186.903625  L 274.83789 208.196673  L 275.031506 204.480561  L 275.225121 190.836735  L 275.418737 186.334002  L 275.612353 170.72362  L 275.805968 182.821327  L 276.193199 174.534669  L 276.386815 177.993094  L 276.58043 160.483969  L 276.967661 185.560942  L 277.161277 194.498597  L 277.548508 167.509319  L 277.742124 163.399896  L 277.935739 154.17743  L 278.129355 177.328534  L 278.32297 182.631452  L 278.516586 197.346712  L 278.710201 194.118849  L 278.903817 210.570102  L 279.097432 116.677252  L 279.291048 95.03158  L 279.484663 186.008503  L 279.678279 106.912287  L 279.871895 117.233312  L 280.06551 110.452087  L 280.259126 113.449388  L 280.452741 107.034349  L 280.646357 92.915837  L 281.033588 81.225004  L 281.227203 99.547876  L 281.420819 91.369718  L 281.614434 99.235939  L 281.80805 101.026183  L 282.001666 92.359777  L 282.195281 109.977401  L 282.388897 107.956596  L 282.582512 100.266686  L 282.776128 80.574007  L 283.163359 100.592185  L 283.55059 98.273005  L 283.744205 119.905115  L 283.937821 121.030799  L 284.325052 103.3318  L 284.518668 113.557888  L 284.712283 111.767644  L 284.905899 114.005449  L 285.099514 128.544397  L 285.486745 122.387044  L 285.680361 134.823812  L 286.067592 144.27684  L 286.454823 125.750532  L 286.648439 128.300273  L 286.842054 123.729726  L 287.229285 104.972856  L 287.422901 191.202922  L 287.616516 185.194756  L 287.810132 88.521603  L 288.003747 94.719643  L 288.197363 93.607522  L 288.390978 91.518905  L 288.584594 175.728165  L 288.77821 175.090729  L 288.971825 94.163583  L 289.165441 90.176222  L 289.359056 94.475519  L 289.746287 84.819054  L 289.939903 91.600279  L 290.133518 89.94566  L 290.327134 83.354309  L 290.520749 97.567758  L 290.714365 101.527994  L 290.907981 110.506337  L 291.101596 108.268532  L 291.488827 78.281952  L 291.682443 77.183394  L 291.876058 74.633653  L 292.069674 85.7413  L 292.456905 75.5559  L 292.65052 158.178353  L 292.844136 192.626979  L 293.037752 189.846676  L 293.231367 101.17537  L 293.424983 98.720566  L 293.618598 90.895032  L 293.812214 92.034278  L 294.005829 189.087179  L 294.39306 211.085475  L 294.586676 187.174874  L 294.780291 196.410903  L 294.973907 215.31696  L 295.167523 101.89418  L 295.361138 108.309219  L 295.554754 98.842628  L 295.748369 103.874298  L 295.941985 204.900997  L 296.1356 102.816427  L 296.329216 94.963767  L 296.522831 100.524372  L 296.716447 122.780355  L 296.910062 106.613913  L 297.103678 105.366167  L 297.297294 99.263064  L 297.490909 107.658222  L 298.071756 115.06332  L 298.265371 213.553841  L 298.458987 109.963838  L 298.652602 94.190708  L 298.846218 177.993094  L 299.039833 195.054658  L 299.233449 185.737254  L 299.427065 216.632518  L 299.62068 222.206685  L 299.814296 204.900997  L 300.007911 127.391588  L 300.201527 206.677678  L 300.395142 216.496893  L 300.588758 195.325907  L 300.782373 200.791575  L 301.169604 186.266189  L 301.36322 179.756213  L 301.556836 204.100813  L 301.750451 197.740023  L 301.944067 201.157761  L 302.137682 207.599925  L 302.524913 195.963342  L 302.718529 197.428087  L 302.912144 111.333646  L 303.10576 100.890559  L 303.492991 133.196317  L 303.686607 118.969306  L 303.880222 225.82786  L 304.073838 126.604966  L 304.267453 114.073261  L 304.461069 215.940833  L 304.654684 127.255964  L 304.8483 108.065095  L 305.041915 195.041095  L 305.235531 172.730863  L 305.429146 181.370144  L 305.622762 177.64047  L 305.816378 209.634293  L 306.009993 207.708425  L 306.203609 201.076386  L 306.397224 199.448892  L 306.59084 207.925424  L 306.784455 224.322428  L 306.978071 208.047486  L 307.171686 201.306948  L 307.558917 206.148743  L 307.752533 198.214709  L 307.946149 196.50584  L 308.139764 206.24368  L 308.33338 201.130636  L 308.526995 207.545675  L 308.720611 138.1873  L 308.914226 217.934513  L 309.107842 203.612564  L 309.301457 210.190353  L 309.495073 119.226993  L 309.688688 111.537083  L 310.07592 130.144766  L 310.269535 133.942252  L 310.463151 146.813019  L 310.656766 121.030799  L 310.850382 140.153855  L 311.043997 126.740591  L 311.237613 134.606812  L 311.431228 117.897872  L 311.624844 118.860806  L 311.818459 112.106706  L 312.012075 110.316462  L 312.20569 131.785823  L 312.399306 124.421412  L 312.592922 124.896097  L 312.786537 133.901565  L 312.980153 135.786746  L 313.367384 119.104931  L 313.560999 193.386476  L 313.754615 104.742295  L 313.94823 124.041663  L 314.141846 124.90966  L 314.335461 129.968454  L 314.529077 118.942181  L 314.916308 144.27684  L 315.109924 223.752805  L 315.303539 215.479709  L 315.69077 221.786249  L 315.884386 131.636636  L 316.078001 113.096765  L 316.271617 128.354522  L 316.465232 118.562433  L 316.658848 115.00907  L 317.046079 113.340889  L 317.239695 117.518124  L 317.43331 125.723407  L 317.626926 110.370712  L 317.820541 118.250496  L 318.014157 132.233383  L 318.207772 114.195323  L 318.401388 124.340037  L 318.595003 220.823315  L 318.788619 122.970229  L 318.982235 199.855765  L 319.17585 190.551924  L 319.369466 191.148672  L 319.563081 200.886512  L 319.756697 193.332226  L 320.143928 208.671359  L 320.337543 192.382855  L 320.531159 203.571877  L 320.91839 187.771621  L 321.112006 188.192057  L 321.305621 101.243182  L 321.692852 108.024408  L 321.886468 89.728661  L 322.080083 95.03158  L 322.273699 82.282875  L 322.467314 80.614694  L 322.854545 103.765798  L 323.048161 100.45656  L 323.241777 91.668092  L 323.435392 95.411328  L 323.629008 88.223229  L 323.822623 89.810036  L 324.209854 108.282094  L 324.40347 117.1655  L 324.790701 95.682577  L 324.984316 104.891482  L 325.177932 123.960288  L 325.371548 122.14292  L 325.565163 135.786746  L 325.758779 129.358144  L 325.952394 117.911435  L 326.14601 131.785823  L 326.533241 123.973851  L 326.726856 133.250567  L 327.114087 107.617534  L 327.307703 108.75678  L 327.694934 98.476442  L 327.88855 107.820971  L 328.082165 176.555474  L 328.275781 84.534242  L 328.469396 95.913139  L 328.663012 93.783834  L 328.856627 101.351682  L 329.243858 80.289195  L 329.63109 90.77297  L 329.824705 66.211371  L 330.018321 73.019721  L 330.211936 72.51791  L 330.405552 104.877919  L 330.599167 176.813161  L 330.792783 91.49178  L 330.986398 97.052385  L 331.180014 108.987342  L 331.373629 128.557959  L 331.567245 103.019863  L 331.954476 113.585013  L 332.148092 113.951199  L 332.341707 122.902417  L 332.922554 95.709702  L 333.116169 99.507189  L 333.309785 99.412251  L 333.697016 81.916689  L 333.890632 87.748543  L 334.277863 122.522668  L 334.471478 121.668234  L 334.665094 108.309219  L 335.052325 116.758627  L 335.439556 104.71517  L 335.633171 114.493697  L 335.826787 117.735123  L 336.020402 116.39244  L 336.407634 81.876002  L 336.601249 99.561438  L 336.794865 82.743999  L 336.98848 196.383778  L 337.182096 86.392298  L 337.375711 177.843907  L 337.569327 74.823527  L 337.762942 75.257526  L 337.956558 78.051391  L 338.150173 58.046775  L 338.343789 78.281952  L 338.537405 83.544183  L 338.73102 94.86883  L 338.924636 185.072694  L 339.118251 188.124245  L 339.311867 194.905471  L 339.505482 185.655879  L 339.699098 199.394642  L 339.892713 201.306948  L 340.086329 199.733703  L 340.279944 182.902701  L 340.47356 179.539213  L 340.860791 202.690318  L 341.054407 199.408205  L 341.248022 205.280746  L 341.441638 119.254118  L 341.635253 192.938915  L 341.828869 207.762675  L 342.022484 88.318166  L 342.2161 189.100742  L 342.409715 191.840357  L 342.603331 99.141002  L 342.796947 76.247585  L 342.990562 86.215986  L 343.184178 109.679027  L 343.571409 102.260366  L 343.765024 101.568681  L 344.152255 114.792071  L 344.345871 117.368937  L 344.539486 101.622931  L 344.733102 101.012621  L 344.926718 100.795621  L 345.313949 104.674482  L 345.70118 120.786675  L 345.894795 201.632447  L 346.088411 82.97456  L 346.282026 204.08725  L 346.475642 104.443921  L 346.669257 100.714247  L 346.862873 88.955601  L 347.056489 117.450312  L 347.250104 202.948004  L 347.44372 103.399612  L 347.637335 105.637416  L 347.830951 101.650056  L 348.218182 110.641961  L 348.411797 114.236011  L 348.605413 127.527213  L 348.799028 121.668234  L 348.992644 133.413317  L 349.18626 117.965685  L 349.379875 116.080504  L 349.767106 139.312983  L 349.960722 139.123109  L 350.154337 133.169193  L 350.347953 136.546243  L 350.541568 132.667382  L 350.928799 154.218117  L 351.122415 134.918749  L 351.316031 139.367233  L 351.509646 135.678246  L 351.896877 151.153003  L 352.090493 129.466643  L 352.284108 137.563427  L 352.477724 122.319232  L 352.671339 123.553415  L 352.864955 114.249573  L 353.05857 124.923222  L 353.252186 109.516278  L 353.445802 111.943956  L 353.639417 117.680873  L 353.833033 117.558811  L 354.026648 134.742437  L 354.220264 138.960359  L 354.413879 126.116718  L 354.607495 122.997354  L 354.80111 129.77858  L 355.188341 122.956667  L 355.381957 131.799385  L 355.575573 129.697205  L 355.769188 135.556184  L 355.962804 132.233383  L 356.156419 214.367588  L 356.350035 126.34728  L 356.54365 122.712543  L 356.737266 138.363611  L 356.930881 98.896878  L 357.124497 198.146897  L 357.318112 113.300201  L 357.511728 122.454856  L 357.705344 110.574149  L 357.898959 120.162802  L 358.092575 118.833682  L 358.28619 120.976549  L 358.479806 99.575001  L 358.673421 106.261289  L 358.867037 89.376037  L 359.060652 92.549651  L 359.254268 121.817421  L 359.447883 107.197098  L 359.641499 118.331871  L 360.02873 124.014538  L 360.415961 99.046065  L 360.609577 111.184459  L 360.803192 199.747266  L 360.996808 189.995863  L 361.190423 201.795196  L 361.384039 200.872949  L 361.577654 99.588563  L 361.77127 105.867978  L 361.964885 104.186234  L 362.158501 97.825445  L 362.352117 95.886014  L 362.545732 73.331658  L 362.932963 105.37973  L 363.126579 97.63557  L 363.320194 99.669938  L 363.51381 103.304675  L 363.707425 95.709702  L 363.901041 96.523449  L 364.094656 87.436607  L 364.481888 124.380724  L 364.675503 119.918678  L 364.869119 111.849019  L 365.062734 119.294805  L 365.25635 86.880546  L 365.449965 111.713395  L 365.643581 86.67711  L 366.030812 101.093995  L 366.224427 89.647286  L 366.418043 89.362475  L 366.611659 83.08306  L 366.805274 83.123747  L 366.99889 83.313622  L 367.192505 97.527071  L 367.579736 111.726957  L 367.773352 135.786746  L 367.966967 126.835528  L 368.160583 143.490218  L 368.354198 145.077025  L 368.547814 162.762461  L 368.74143 161.270592  L 368.935045 151.831126  L 369.128661 149.403447  L 369.322276 148.42695  L 369.515892 136.315681  L 369.709507 132.816569  L 369.903123 123.010917  L 370.096738 126.618529  L 370.290354 125.506408  L 370.483969 110.492774  L 370.871201 117.979247  L 371.064816 114.819196  L 371.258432 125.397908  L 371.452047 117.409624  L 371.645663 139.624919  L 372.032894 150.52913  L 372.226509 142.039036  L 372.420125 146.894393  L 372.61374 136.627618  L 372.807356 134.471188  L 373.000972 209.539356  L 373.194587 215.167773  L 373.388203 212.916406  L 373.581818 130.402453  L 373.581818 130.402453  \" clip-path=\"url(#pcb443a070c)\" style=\"fill: none; stroke: #dc143c; stroke-linecap: square\"/>\n   </g>\n   <g id=\"line2d_19\">\n    <path d=\"M 69.218182 150.420631  L 69.411797 149.647571  L 69.605413 146.216271  L 69.799028 147.613203  L 69.992644 150.58338  L 70.18626 146.162021  L 70.379875 157.893541  L 70.767106 152.712685  L 70.960722 155.492987  L 71.154337 153.702744  L 71.541568 146.351895  L 71.735184 150.841067  L 72.316031 145.443211  L 72.509646 147.057143  L 72.703262 152.536373  L 72.896877 153.729869  L 73.284108 142.527284  L 73.671339 147.124955  L 73.864955 138.838297  L 74.05857 145.700898  L 74.639417 149.30851  L 74.833033 159.059912  L 75.026648 156.984857  L 75.413879 160.850156  L 75.607495 158.544539  L 75.80111 159.358286  L 75.994726 151.681939  L 76.188341 152.183749  L 76.381957 153.40437  L 76.575573 152.888997  L 76.769188 153.662056  L 76.962804 157.106919  L 77.156419 155.750674  L 77.350035 159.019225  L 77.54365 159.860097  L 77.737266 161.311279  L 78.124497 156.360984  L 78.318112 154.964052  L 78.511728 156.971295  L 78.705344 156.266047  L 78.898959 154.570741  L 79.092575 149.701821  L 79.28619 150.230756  L 79.479806 154.760615  L 79.673421 151.546314  L 79.867037 144.453152  L 80.060652 145.82296  L 80.254268 144.927838  L 80.447883 149.75607  L 80.641499 151.709063  L 80.835115 145.538148  L 81.02873 145.456773  L 81.222346 141.903411  L 81.415961 145.117712  L 81.609577 146.107771  L 81.803192 152.007437  L 82.190423 137.929613  L 82.384039 138.79761  L 82.77127 151.587001  L 82.964885 151.451377  L 83.158501 156.957732  L 83.545732 148.345576  L 83.739348 148.847386  L 83.932963 144.005591  L 84.126579 145.131275  L 84.320194 145.402524  L 84.51381 149.634008  L 84.707425 158.259727  L 85.094656 151.044503  L 85.288272 157.201856  L 85.481888 159.114162  L 85.869119 166.193761  L 86.25635 151.587001  L 86.449965 149.75607  L 86.643581 145.850085  L 86.837196 151.153003  L 87.030812 146.514645  L 87.224427 146.202708  L 87.418043 147.653891  L 87.611659 150.352818  L 87.99889 158.951412  L 88.192505 159.71091  L 88.386121 154.584303  L 88.773352 159.534598  L 88.966967 154.204554  L 89.160583 156.78142  L 89.354198 153.417932  L 89.547814 157.391731  L 89.74143 149.91882  L 89.935045 155.615049  L 90.128661 149.064385  L 90.322276 150.339256  L 90.515892 150.298569  L 90.903123 156.700046  L 91.096738 153.973993  L 91.290354 155.479425  L 91.483969 153.702744  L 91.677585 148.657512  L 91.871201 152.848309  L 92.064816 147.775953  L 92.452047 153.268745  L 92.645663 151.654814  L 92.839278 151.125878  L 93.032894 151.532752  L 93.226509 151.532752  L 93.420125 158.639476  L 93.61374 151.695501  L 93.807356 157.011982  L 94.000972 158.002041  L 94.194587 161.379091  L 94.388203 159.100599  L 94.581818 159.792284  L 94.775434 161.216342  L 94.969049 155.50655  L 95.162665 161.270592  L 95.35628 162.898086  L 95.549896 162.043651  L 95.743511 161.935152  L 95.937127 160.26697  L 96.130743 163.657583  L 96.517974 152.07525  L 96.711589 154.78774  L 96.905205 151.532752  L 97.09882 151.098753  L 97.292436 154.760615  L 97.679667 156.917045  L 97.873282 163.413459  L 98.066898 153.445057  L 98.454129 160.741656  L 98.647745 153.973993  L 98.84136 158.639476  L 99.034976 156.27961  L 99.228591 155.723549  L 99.422207 157.269668  L 99.615822 157.486668  L 99.809438 159.466786  L 100.003053 157.839291  L 100.196669 158.842913  L 100.5839 150.054444  L 100.777516 149.30851  L 100.971131 154.001118  L 101.164747 149.539071  L 101.358362 149.322072  L 101.551978 147.952264  L 101.745593 152.197312  L 101.939209 152.549935  L 102.132824 155.737111  L 102.32644 153.255183  L 102.520056 158.870038  L 102.713671 159.480348  L 102.907287 155.587925  L 103.294518 159.724472  L 103.488133 159.127724  L 103.681749 159.900784  L 103.875364 157.242544  L 104.06898 161.921589  L 104.262595 160.904405  L 104.456211 158.530976  L 104.649827 154.285929  L 104.843442 159.385411  L 105.037058 160.836593  L 105.230673 160.511094  L 105.424289 150.69188  L 105.617904 152.509248  L 105.81152 155.574362  L 106.198751 152.441436  L 106.392366 153.729869  L 106.779598 152.441436  L 106.973213 155.221738  L 107.166829 148.467638  L 107.360444 152.454998  L 107.55406 152.034562  L 107.747675 149.498384  L 107.941291 148.874511  L 108.134906 153.892618  L 108.328522 153.472182  L 108.522137 151.614126  L 108.715753 146.107771  L 109.102984 154.285929  L 109.2966 144.643026  L 109.490215 147.572516  L 109.683831 141.293101  L 110.071062 157.649417  L 110.458293 153.092433  L 110.651908 149.891695  L 110.845524 149.97307  L 111.039139 154.462241  L 111.232755 153.336558  L 111.426371 154.448679  L 111.619986 156.83567  L 111.813602 156.238922  L 112.007217 160.511094  L 112.394448 155.615049  L 112.588064 154.665678  L 112.975295 159.019225  L 113.16891 158.653039  L 113.362526 154.489366  L 113.556142 155.425175  L 113.749757 152.278686  L 113.943373 154.313054  L 114.136988 154.747053  L 114.330604 157.649417  L 114.524219 154.719928  L 114.717835 156.238922  L 114.91145 154.245242  L 115.105066 156.103298  L 115.492297 149.09151  L 115.685913 150.990254  L 115.879528 146.094209  L 116.266759 151.24794  L 116.460375 151.885375  L 116.847606 162.559024  L 117.041221 155.113239  L 117.622068 149.444134  L 117.815684 152.048125  L 118.202915 145.904334  L 118.590146 155.438738  L 118.783761 149.932382  L 118.977377 151.003816  L 119.364608 150.447755  L 119.558223 156.672921  L 119.751839 147.287704  L 119.945455 153.200933  L 120.719917 161.75884  L 121.494379 151.071628  L 121.687994 156.076173  L 121.88161 153.173808  L 122.075226 152.916122  L 122.268841 155.248863  L 122.462457 151.030941  L 122.656072 149.701821  L 122.849688 152.278686  L 123.043303 152.251562  L 123.430534 150.02732  L 123.62415 144.168341  L 123.817765 149.81032  L 124.204997 152.170187  L 124.398612 149.159323  L 124.785843 150.379943  L 124.979459 154.869115  L 125.173074 152.07525  L 125.36669 151.478502  L 125.560305 147.653891  L 125.753921 149.09151  L 125.947536 149.349197  L 126.334768 151.315752  L 126.528383 153.24162  L 126.915614 157.757917  L 127.10923 155.655737  L 127.496461 146.785894  L 127.690076 148.020077  L 128.077307 151.654814  L 128.270923 150.285006  L 128.464539 149.97307  L 128.658154 146.202708  L 128.85177 149.715383  L 129.045385 139.46217  L 129.239001 141.659287  L 129.432616 142.527284  L 129.626232 140.113168  L 129.819847 143.218969  L 130.207078 155.3438  L 130.400694 148.684637  L 130.59431 149.14576  L 130.981541 156.089735  L 131.175156 158.341102  L 131.368772 157.60873  L 131.562387 155.547237  L 131.756003 156.984857  L 131.949618 151.505627  L 132.143234 156.17111  L 132.336849 157.215419  L 132.530465 160.077096  L 132.72408 153.24162  L 132.917696 151.532752  L 133.111312 152.509248  L 133.304927 150.339256  L 133.498543 150.556255  L 133.692158 154.109617  L 133.885774 146.256958  L 134.079389 150.813942  L 134.273005 151.234378  L 134.46662 150.135819  L 134.660236 154.041805  L 134.853851 148.630387  L 135.047467 155.601487  L 135.241083 153.417932  L 135.434698 155.275988  L 135.628314 149.728946  L 135.821929 151.139441  L 136.015545 151.451377  L 136.20916 163.467709  L 136.402776 156.415234  L 136.596391 160.646719  L 136.790007 159.209099  L 136.983622 159.222661  L 137.177238 155.859174  L 137.370854 155.886298  L 137.758085 159.832972  L 137.9517 156.008361  L 138.145316 157.893541  L 138.338931 153.946868  L 138.532547 157.934229  L 138.726162 158.083416  L 138.919778 154.001118  L 139.113393 155.357363  L 139.307009 155.370925  L 139.500625 152.536373  L 139.69424 161.134967  L 139.887856 158.653039  L 140.081471 159.344724  L 140.275087 156.618671  L 140.468702 161.975839  L 140.662318 160.497532  L 140.855933 154.747053  L 141.243164 164.729017  L 141.43678 156.021923  L 141.630396 157.405293  L 141.824011 153.96043  L 142.017627 152.766935  L 142.211242 156.238922  L 142.404858 155.886298  L 142.598473 152.468561  L 142.792089 153.133121  L 142.985704 159.100599  L 143.17932 156.917045  L 143.372935 150.841067  L 143.566551 155.425175  L 143.760167 155.004739  L 144.341013 148.643949  L 144.534629 150.47488  L 144.728244 149.796758  L 145.115475 154.611428  L 145.309091 154.801302  L 145.502706 159.439661  L 145.696322 158.870038  L 145.889938 151.342877  L 146.083553 159.887222  L 146.277169 149.322072  L 146.470784 159.982159  L 146.858015 166.125949  L 147.245246 157.866416  L 147.438862 158.354665  L 147.632477 160.21272  L 147.826093 158.151228  L 148.019709 153.133121  L 148.213324 158.598789  L 148.40694 158.083416  L 148.600555 150.190069  L 148.987786 156.496609  L 149.181402 151.9125  L 149.375017 159.466786  L 149.568633 152.509248  L 149.762248 152.305811  L 149.955864 161.609653  L 150.343095 158.517414  L 150.536711 162.491212  L 150.730326 156.442359  L 150.923942 154.028243  L 151.117557 160.98578  L 151.311173 160.199158  L 151.698404 161.162092  L 151.892019 150.02732  L 152.085635 157.283231  L 152.279251 156.27961  L 152.472866 154.109617  L 152.666482 154.869115  L 152.860097 154.652115  L 153.053713 158.978537  L 153.247328 152.766935  L 153.440944 156.754295  L 153.634559 154.245242  L 153.828175 156.659358  L 154.02179 160.483969  L 154.215406 161.528278  L 154.409022 157.812167  L 154.602637 156.360984  L 154.989868 158.368227  L 155.183484 156.740733  L 155.377099 156.672921  L 155.570715 151.30219  L 155.76433 152.278686  L 155.957946 154.475804  L 156.151561 153.322995  L 156.345177 150.936004  L 156.538793 150.624067  L 156.926024 157.730792  L 157.119639 152.251562  L 157.313255 155.479425  L 157.50687 156.035485  L 157.700486 155.981236  L 157.894101 150.447755  L 158.087717 154.489366  L 158.281332 155.669299  L 158.474948 152.305811  L 158.668563 152.888997  L 158.862179 151.9125  L 159.055795 153.445057  L 159.24941 153.268745  L 159.443026 157.161169  L 159.636641 149.959507  L 159.830257 151.288627  L 160.217488 157.744354  L 160.604719 164.552705  L 160.798334 159.181974  L 160.99195 161.81309  L 161.185566 157.717229  L 161.379181 162.138588  L 161.572797 162.111464  L 161.766412 161.541841  L 161.960028 156.632233  L 162.153643 160.37547  L 162.347259 154.082492  L 162.540874 154.204554  L 162.73449 158.11054  L 163.121721 159.439661  L 163.315337 158.002041  L 163.508952 164.295018  L 163.702568 163.521959  L 163.896183 158.544539  L 164.089799 159.04635  L 164.283414 156.266047  L 164.47703 162.233526  L 164.670645 154.489366  L 164.864261 158.191915  L 165.057876 157.907104  L 165.251492 159.54816  L 165.445108 153.35012  L 165.638723 162.260651  L 165.832339 161.053592  L 166.025954 154.204554  L 166.21957 151.492064  L 166.413185 153.512869  L 166.606801 153.160246  L 166.800416 156.984857  L 166.994032 152.115937  L 167.381263 154.041805  L 167.574879 151.817563  L 167.768494 151.058066  L 167.96211 151.085191  L 168.155725 150.447755  L 168.349341 148.5897  L 168.736572 147.504704  L 168.930187 148.630387  L 169.123803 147.328392  L 169.317418 151.058066  L 169.511034 150.081569  L 169.70465 160.972218  L 169.898265 148.969448  L 170.091881 154.923364  L 170.285496 155.981236  L 170.479112 159.181974  L 170.866343 169.136813  L 171.059958 168.01113  L 171.253574 162.016526  L 171.447189 162.179276  L 171.640805 157.364606  L 172.028036 158.571664  L 172.221652 158.205478  L 172.415267 163.508396  L 172.996114 151.953188  L 173.189729 151.790438  L 173.383345 157.717229  L 173.770576 149.14576  L 173.964192 149.349197  L 174.157807 154.991177  L 174.351423 153.282308  L 174.545038 155.235301  L 174.738654 151.112316  L 174.932269 149.417009  L 175.125885 152.129499  L 175.3195 145.402524  L 175.513116 151.464939  L 175.706731 150.52913  L 175.900347 144.534527  L 176.093963 142.106848  L 176.287578 151.30219  L 176.481194 148.766012  L 176.674809 148.630387  L 176.868425 145.036337  L 177.06204 150.488443  L 177.255656 152.115937  L 177.449271 150.257881  L 177.642887 147.233455  L 177.836502 146.270521  L 178.030118 147.464016  L 178.223734 147.70814  L 178.417349 148.806699  L 178.610965 144.602339  L 178.80458 147.314829  L 178.998196 145.199087  L 179.191811 151.505627  L 179.385427 147.464016  L 179.579042 151.926063  L 179.772658 147.911577  L 179.966273 151.166565  L 180.159889 151.112316  L 180.353505 156.008361  L 180.54712 154.082492  L 180.740736 155.275988  L 180.934351 154.231679  L 181.321582 149.539071  L 181.515198 151.017378  L 181.708813 155.587925  L 181.902429 154.814865  L 182.096044 147.938702  L 182.28966 151.85825  L 182.483276 149.430572  L 182.676891 150.895316  L 182.870507 159.154849  L 183.064122 162.016526  L 183.257738 161.487591  L 183.451353 160.565344  L 183.838584 152.807622  L 184.0322 156.645796  L 184.225815 155.642174  L 184.419431 159.141287  L 184.613046 150.556255  L 184.806662 156.876357  L 185.000278 147.952264  L 185.193893 149.796758  L 185.387509 148.494763  L 185.581124 152.102375  L 185.77474 148.359138  L 185.968355 151.139441  L 186.161971 148.454075  L 186.355586 154.652115  L 186.549202 155.086114  L 186.742817 158.707288  L 186.936433 159.575285  L 187.130049 165.257952  L 187.323664 156.740733  L 187.51728 153.512869  L 187.710895 147.057143  L 187.904511 156.021923  L 188.098126 149.91882  L 188.291742 151.709063  L 188.485357 157.283231  L 188.678973 151.505627  L 189.066204 157.283231  L 189.25982 157.093357  L 189.453435 149.539071  L 189.647051 152.956809  L 189.840666 150.895316  L 190.227897 149.91882  L 190.421513 147.965827  L 190.615128 147.572516  L 190.808744 150.176506  L 191.002359 148.494763  L 191.195975 148.115014  L 191.389591 140.642103  L 191.583206 144.371777  L 191.776822 140.18098  L 191.970437 148.399825  L 192.164053 147.477579  L 192.744899 155.737111  L 192.938515 154.231679  L 193.325746 161.609653  L 193.906593 145.551711  L 194.293824 157.771479  L 194.487439 155.859174  L 194.681055 151.24794  L 194.87467 156.998419  L 195.068286 152.102375  L 195.261901 152.929684  L 195.455517 150.800379  L 195.649133 153.662056  L 195.842748 150.664755  L 196.036364 150.936004  L 196.229979 149.878133  L 196.423595 157.215419  L 196.810826 149.552634  L 197.004441 150.52913  L 197.391672 147.124955  L 197.778904 150.569818  L 197.972519 150.868191  L 198.166135 153.553557  L 198.35975 158.585226  L 198.553366 157.744354  L 198.746981 152.115937  L 198.940597 162.016526  L 199.134212 151.437814  L 199.327828 159.629535  L 199.521443 148.996573  L 199.715059 155.316676  L 199.908675 153.363683  L 200.10229 153.797681  L 200.295906 153.173808  L 200.489521 151.125878  L 200.683137 159.344724  L 200.876752 160.633156  L 201.070368 160.117783  L 201.263983 157.242544  L 201.457599 157.337481  L 201.651214 155.275988  L 201.84483 144.9414  L 202.425677 154.665678  L 202.619292 155.832049  L 202.812908 159.54816  L 203.393754 155.832049  L 203.780985 152.007437  L 203.974601 154.367304  L 204.168217 155.153926  L 204.361832 154.245242  L 204.749063 159.575285  L 205.136294 149.511946  L 205.32991 150.203631  L 205.523525 148.928761  L 206.297988 151.817563  L 206.491603 148.711762  L 206.685219 153.526432  L 206.878834 151.35644  L 207.07245 152.034562  L 207.266065 154.814865  L 207.459681 162.097901  L 207.846912 158.178353  L 208.040527 152.57706  L 208.234143 155.872736  L 208.427759 155.411613  L 208.621374 157.120482  L 208.81499 155.5608  L 209.008605 158.612351  L 209.202221 156.754295  L 209.589452 148.779574  L 209.976683 151.96675  L 210.170298 149.715383  L 210.363914 158.490289  L 210.557529 157.459543  L 210.751145 153.390807  L 211.138376 156.550859  L 211.331992 153.973993  L 211.525607 146.663832  L 211.719223 146.351895  L 211.912838 154.882677  L 212.106454 150.949566  L 212.300069 153.268745  L 212.493685 146.446832  L 212.6873 145.917897  L 212.880916 149.322072  L 213.268147 151.19369  L 213.461763 146.677394  L 213.848994 154.638553  L 214.042609 151.058066  L 214.236225 155.655737  L 214.623456 148.711762  L 214.817071 150.786817  L 215.010687 149.172885  L 215.204303 149.97307  L 215.397918 156.984857  L 215.591534 153.539994  L 215.785149 153.173808  L 215.978765 150.271444  L 216.17238 152.73981  L 216.365996 152.102375  L 216.559611 149.606884  L 216.753227 149.566196  L 216.946842 146.460395  L 217.140458 152.549935  L 217.334074 149.335634  L 217.527689 151.19369  L 217.721305 155.642174  L 217.91492 156.266047  L 218.108536 162.206401  L 218.302151 160.524657  L 218.495767 157.703667  L 218.689382 152.319374  L 218.882998 151.153003  L 219.076613 153.173808  L 219.270229 153.607807  L 219.463845 159.805847  L 219.65746 161.175654  L 219.851076 161.162092  L 220.238307 150.02732  L 220.431922 149.851008  L 220.625538 144.968525  L 220.819153 143.354593  L 221.012769 138.309362  L 221.206384 144.724401  L 221.593616 148.725324  L 221.787231 154.557178  L 221.980847 154.909802  L 222.174462 151.749751  L 222.368078 155.845611  L 222.755309 148.955886  L 222.948924 153.512869  L 223.14254 148.616825  L 223.336155 157.174731  L 223.529771 156.021923  L 223.723387 151.926063  L 224.110618 152.346499  L 224.304233 149.728946  L 224.497849 149.86457  L 224.691464 154.652115  L 224.88508 151.139441  L 225.078695 155.818486  L 225.272311 154.109617  L 225.465926 159.019225  L 225.659542 158.571664  L 226.046773 155.682862  L 226.240389 155.899861  L 226.434004 158.680163  L 226.62762 154.814865  L 226.821235 159.073475  L 227.014851 157.812167  L 227.208466 154.78774  L 227.402082 155.777799  L 227.595697 161.270592  L 227.789313 158.517414  L 227.982929 159.032787  L 228.176544 162.789586  L 228.37016 163.928832  L 228.563775 163.562646  L 228.757391 163.942395  L 228.951006 155.181051  L 229.144622 158.598789  L 229.338237 157.473105  L 229.531853 153.499307  L 229.725468 153.716306  L 229.919084 154.964052  L 230.306315 148.250638  L 230.693546 154.204554  L 230.887162 154.136742  L 231.080777 147.016455  L 231.274393 148.020077  L 231.468008 144.575214  L 231.855239 147.599641  L 232.048855 152.061687  L 232.436086 143.761467  L 232.629702 145.877209  L 232.823317 144.33109  L 233.016933 148.332013  L 233.210548 147.409766  L 233.404164 142.771408  L 233.597779 143.585155  L 233.791395 145.511023  L 233.98501 139.611357  L 234.178626 142.825658  L 234.565857 155.126801  L 234.759473 149.30851  L 234.953088 147.965827  L 235.146704 157.513793  L 235.340319 156.83567  L 235.533935 157.147606  L 235.72755 156.347422  L 235.921166 158.096978  L 236.114781 153.607807  L 236.308397 152.387186  L 236.502012 154.597866  L 236.695628 159.507473  L 237.276475 144.073403  L 237.47009 141.889849  L 238.050937 157.188294  L 238.244552 162.626837  L 238.438168 156.577983  L 238.631783 154.950489  L 238.825399 154.665678  L 239.019015 158.368227  L 239.406246 145.212649  L 239.987092 152.726247  L 240.180708 151.085191  L 240.374323 153.987555  L 240.567939 145.71446  L 240.95517 154.01468  L 241.148786 150.257881  L 241.342401 153.024621  L 241.729632 146.134896  L 241.923248 155.167489  L 242.116863 148.169264  L 242.504094 156.618671  L 242.69771 154.760615  L 242.891325 155.370925  L 243.084941 154.299492  L 243.278557 150.298569  L 243.472172 152.034562  L 243.665788 150.624067  L 243.859403 150.366381  L 244.053019 151.763313  L 244.246634 156.252485  L 244.44025 144.046278  L 244.633865 143.124032  L 244.827481 141.482975  L 245.214712 144.412465  L 245.408328 148.684637  L 245.601943 147.70814  L 245.795559 143.869967  L 245.989174 144.38534  L 246.18279 142.242472  L 246.376405 145.402524  L 246.570021 146.026396  L 246.763636 145.443211  L 246.957252 143.992029  L 247.344483 144.778651  L 247.538099 146.473957  L 247.731714 146.907956  L 248.118945 144.371777  L 248.312561 147.640328  L 248.699792 150.596942  L 248.893407 153.824806  L 249.087023 151.342877  L 249.280638 153.811243  L 249.474254 146.880831  L 249.66787 149.959507  L 249.861485 155.438738  L 250.055101 154.475804  L 250.635947 163.291397  L 250.829563 162.111464  L 251.023178 167.129571  L 251.410409 155.777799  L 251.604025 163.616896  L 251.797641 154.665678  L 251.991256 160.416157  L 252.184872 154.869115  L 252.572103 159.398973  L 252.959334 153.390807  L 253.152949 156.27961  L 253.346565 152.170187  L 253.54018 152.387186  L 253.733796 153.851931  L 253.927412 154.340179  L 254.121027 151.85825  L 254.314643 151.003816  L 254.508258 150.732567  L 254.701874 154.964052  L 255.089105 152.278686  L 255.28272 153.024621  L 255.476336 152.251562  L 255.669951 145.904334  L 255.863567 143.422406  L 256.250798 151.614126  L 256.444414 151.478502  L 256.638029 157.364606  L 256.831645 157.825729  L 257.02526 159.561723  L 257.218876 157.039107  L 257.606107 161.514716  L 257.799722 156.510171  L 257.993338 154.557178  L 258.380569 161.216342  L 258.574185 159.209099  L 258.7678 152.63131  L 258.961416 161.026467  L 259.155031 160.26697  L 259.348647 155.791361  L 259.542262 153.933305  L 259.735878 157.690104  L 259.929493 154.136742  L 260.123109 145.307586  L 260.51034 149.362759  L 260.897571 153.512869  L 261.091187 159.331161  L 261.478418 150.339256  L 261.672033 151.9125  L 262.059264 156.876357  L 262.25288 157.337481  L 262.446495 153.716306  L 262.640111 156.822108  L 262.833727 154.936927  L 263.027342 155.086114  L 263.220958 145.60596  L 263.414573 149.105073  L 263.608189 157.907104  L 263.801804 154.462241  L 263.99542 157.540918  L 264.382651 149.606884  L 264.576266 148.182826  L 264.769882 149.498384  L 264.963498 152.021  L 265.157113 148.440513  L 265.350729 147.382642  L 265.544344 151.953188  L 265.73796 148.901636  L 265.931575 148.291326  L 266.125191 140.01823  L 266.318806 144.371777  L 266.512422 144.927838  L 266.706037 149.715383  L 266.899653 146.840143  L 267.093269 147.436891  L 267.286884 144.697276  L 267.674115 142.17466  L 267.867731 139.068859  L 268.254962 145.0499  L 268.448577 150.488443  L 268.835808 145.82296  L 269.029424 157.459543  L 269.22304 154.109617  L 269.416655 158.517414  L 269.610271 158.680163  L 269.803886 156.577983  L 269.997502 156.360984  L 270.191117 152.956809  L 270.771964 165.176578  L 270.965579 165.407139  L 271.546426 159.873659  L 271.740042 167.84838  L 271.933657 163.657583  L 272.127273 163.684708  L 272.708119 157.283231  L 272.901735 162.518337  L 273.09535 162.762461  L 273.288966 162.287775  L 273.482582 162.138588  L 273.676197 158.002041  L 273.869813 157.812167  L 274.063428 155.5608  L 274.257044 160.199158  L 274.450659 162.030089  L 274.644275 157.351043  L 275.031506 160.361907  L 275.418737 151.003816  L 275.612353 155.465862  L 275.805968 157.025544  L 275.999584 153.946868  L 276.193199 152.726247  L 276.386815 149.796758  L 276.58043 150.217194  L 276.774046 150.000195  L 276.967661 149.227135  L 277.161277 145.1584  L 277.354892 148.779574  L 277.548508 149.294947  L 277.742124 150.461318  L 277.935739 153.512869  L 278.129355 149.945945  L 278.32297 151.275065  L 278.516586 146.921518  L 278.903817 155.031864  L 279.097432 151.831126  L 279.291048 151.35644  L 279.484663 151.532752  L 279.678279 150.379943  L 279.871895 150.434193  L 280.06551 147.20633  L 280.452741 160.307658  L 280.646357 151.898938  L 280.839972 149.86457  L 281.033588 150.434193  L 281.420819 146.256958  L 281.614434 145.755147  L 281.80805 145.985709  L 282.001666 152.061687  L 282.195281 148.684637  L 282.388897 156.17111  L 282.582512 156.632233  L 282.969743 151.505627  L 283.163359 150.190069  L 283.356974 150.393506  L 283.55059 152.658435  L 283.937821 154.299492  L 284.131437 153.105996  L 284.325052 148.345576  L 284.518668 149.945945  L 284.905899 146.43327  L 285.486745 155.058989  L 285.680361 157.568042  L 285.873976 155.547237  L 286.067592 157.066232  L 286.261207 150.949566  L 286.648439 146.189146  L 286.842054 151.437814  L 287.03567 146.053521  L 287.229285 149.878133  L 287.422901 149.20001  L 287.616516 146.37902  L 287.810132 149.945945  L 288.003747 147.016455  L 288.390978 150.47488  L 288.584594 150.040882  L 288.77821 151.953188  L 288.971825 148.888074  L 289.165441 155.804924  L 289.552672 148.033639  L 289.746287 145.294024  L 289.939903 146.121334  L 290.714365 155.438738  L 290.907981 150.47488  L 291.101596 150.108694  L 291.295212 154.01468  L 291.682443 144.548089  L 291.876058 145.009213  L 292.069674 146.48752  L 292.263289 148.874511  L 292.456905 153.946868  L 292.844136 148.508325  L 293.231367 151.817563  L 293.424983 158.476727  L 293.618598 151.790438  L 293.812214 150.149382  L 294.005829 154.936927  L 294.199445 153.743431  L 294.39306 157.256106  L 294.586676 155.5608  L 294.780291 160.280533  L 295.167523 155.899861  L 295.361138 155.126801  L 295.554754 156.686483  L 295.748369 153.973993  L 295.941985 153.919743  L 296.1356 155.235301  L 296.522831 148.766012  L 296.716447 156.903482  L 296.910062 156.550859  L 297.103678 155.872736  L 297.297294 159.995721  L 297.490909 160.904405  L 297.684525 162.708211  L 298.265371 159.521035  L 298.458987 160.090658  L 298.652602 157.106919  L 298.846218 158.395352  L 299.039833 156.089735  L 299.233449 157.839291  L 299.427065 156.659358  L 299.814296 149.688258  L 300.007911 149.620446  L 300.395142 162.965898  L 300.588758 161.216342  L 300.782373 158.436039  L 300.975989 163.128647  L 301.169604 159.778722  L 301.36322 158.842913  L 301.556836 164.606955  L 301.750451 159.04635  L 301.944067 165.230827  L 302.137682 166.722697  L 302.331298 163.942395  L 302.524913 165.881825  L 302.718529 165.461389  L 303.10576 162.830274  L 303.299375 158.232603  L 303.492991 162.5319  L 303.686607 155.913423  L 303.880222 160.022846  L 304.073838 160.42972  L 304.267453 164.823954  L 304.461069 166.207324  L 304.8483 158.802225  L 305.041915 158.693726  L 305.235531 155.004739  L 305.429146 157.147606  L 305.622762 156.564421  L 306.203609 148.4812  L 306.397224 152.346499  L 306.784455 153.784119  L 306.978071 152.821184  L 307.171686 156.11686  L 307.365302 151.519189  L 307.558917 156.957732  L 307.946149 146.690956  L 308.139764 144.27684  L 308.33338 147.301267  L 308.526995 143.517343  L 308.720611 148.874511  L 308.914226 149.267822  L 309.301457 144.181903  L 309.495073 142.161098  L 310.463151 156.442359  L 310.850382 156.577983  L 311.043997 153.919743  L 311.237613 154.584303  L 311.431228 154.218117  L 311.818459 153.24162  L 312.012075 148.996573  L 312.20569 157.011982  L 312.399306 149.172885  L 312.786537 152.73981  L 312.980153 151.180128  L 313.173768 153.146683  L 313.367384 153.946868  L 313.560999 148.779574  L 313.754615 152.495686  L 313.94823 152.929684  L 314.141846 151.112316  L 314.335461 156.238922  L 314.529077 151.166565  L 314.722693 149.322072  L 314.916308 151.153003  L 315.109924 154.380866  L 315.303539 154.082492  L 315.497155 144.88715  L 315.69077 152.292249  L 315.884386 152.210874  L 316.078001 147.124955  L 316.465232 152.387186  L 316.658848 149.227135  L 316.852464 148.806699  L 317.046079 152.387186  L 317.239695 152.590623  L 317.43331 153.40437  L 317.626926 156.632233  L 317.820541 157.703667  L 318.014157 149.945945  L 318.788619 160.551782  L 318.982235 158.842913  L 319.17585 152.414311  L 319.369466 153.038184  L 319.756697 156.008361  L 319.950312 162.097901  L 320.143928 153.363683  L 320.724774 145.917897  L 320.91839 146.039959  L 321.305621 149.430572  L 321.499237 155.804924  L 322.080083 148.304888  L 322.273699 147.857327  L 322.66093 152.861872  L 323.048161 150.556255  L 323.241777 151.573439  L 323.435392 158.856475  L 323.822623 153.377245  L 324.016239 153.472182  L 324.209854 149.457697  L 324.40347 148.847386  L 324.597085 149.701821  L 324.790701 152.753372  L 324.984316 153.946868  L 325.177932 151.153003  L 325.371548 156.238922  L 325.565163 148.454075  L 325.758779 154.394429  L 325.952394 153.472182  L 326.14601 155.682862  L 326.339625 162.450525  L 326.533241 160.049971  L 326.726856 160.21272  L 326.920472 159.059912  L 327.114087 147.219892  L 327.307703 145.171962  L 327.694934 150.963129  L 327.88855 148.155701  L 328.082165 150.502005  L 328.275781 150.949566  L 328.469396 152.373624  L 328.663012 150.285006  L 328.856627 152.79406  L 329.050243 148.562575  L 329.243858 153.567119  L 329.437474 153.811243  L 329.63109 152.821184  L 329.824705 149.172885  L 330.211936 150.176506  L 330.405552 148.345576  L 330.599167 150.366381  L 330.792783 155.208176  L 330.986398 154.340179  L 331.373629 159.005662  L 331.567245 156.22536  L 331.954476 148.833824  L 332.148092 150.352818  L 332.341707 159.087037  L 332.535323 150.515568  L 332.728938 149.511946  L 332.922554 147.477579  L 333.116169 153.811243  L 333.309785 153.973993  L 333.5034 153.35012  L 333.697016 156.632233  L 333.890632 156.632233  L 334.084247 154.909802  L 334.471478 158.313977  L 334.665094 149.172885  L 334.858709 146.189146  L 335.052325 147.884452  L 335.24594 152.970371  L 335.439556 152.156624  L 335.633171 153.024621  L 335.826787 154.936927  L 336.020402 146.853706  L 336.214018 155.601487  L 336.407634 149.050823  L 336.601249 155.465862  L 336.794865 152.57706  L 336.98848 154.231679  L 337.182096 150.58338  L 337.375711 144.792213  L 337.569327 150.352818  L 337.762942 142.350972  L 337.956558 148.060764  L 338.150173 148.508325  L 338.537405 146.718081  L 338.73102 149.322072  L 338.924636 144.968525  L 339.118251 144.141216  L 339.311867 145.60596  L 339.505482 142.744283  L 339.699098 151.180128  L 339.892713 153.200933  L 340.086329 153.662056  L 340.47356 163.304959  L 340.667176 154.163867  L 340.860791 161.09428  L 341.054407 154.923364  L 341.248022 155.50655  L 341.441638 158.408914  L 341.635253 155.425175  L 341.828869 158.408914  L 342.022484 152.888997  L 342.2161 161.853777  L 342.603331 155.845611  L 342.796947 162.125026  L 342.990562 160.755218  L 343.184178 163.454146  L 343.377793 161.474028  L 343.571409 158.137665  L 343.765024 159.60241  L 343.95864 156.88992  L 344.345871 163.657583  L 344.539486 158.747976  L 344.926718 162.708211  L 345.313949 151.980312  L 345.507564 159.073475  L 345.70118 160.022846  L 346.088411 152.617748  L 346.282026 158.775101  L 346.475642 151.383565  L 346.862873 153.594244  L 347.056489 156.238922  L 347.250104 160.714531  L 347.44372 159.331161  L 347.637335 164.023769  L 347.830951 172.10699  L 348.024566 167.929755  L 348.218182 169.204626  L 348.411797 164.63408  L 348.605413 168.295941  L 348.799028 167.021071  L 348.992644 157.988478  L 349.18626 154.530053  L 349.379875 160.42972  L 349.767106 155.615049  L 349.960722 154.991177  L 350.154337 156.238922  L 350.347953 156.455921  L 350.541568 156.496609  L 350.735184 158.9921  L 351.122415 166.722697  L 351.316031 165.149453  L 351.703262 170.181122  L 351.896877 169.543687  L 352.090493 166.180199  L 352.284108 167.088883  L 352.477724 162.925211  L 352.671339 163.454146  L 352.864955 160.239845  L 353.05857 159.439661  L 353.252186 157.595167  L 353.445802 168.919814  L 353.639417 161.59609  L 353.833033 161.351966  L 354.026648 160.890843  L 354.220264 158.096978  L 354.413879 157.50023  L 354.607495 159.941471  L 354.80111 160.470407  L 355.188341 151.776876  L 355.381957 150.352818  L 355.575573 151.30219  L 355.962804 144.195465  L 356.350035 152.671998  L 356.54365 151.993875  L 356.737266 145.836522  L 356.930881 144.954963  L 357.318112 141.157476  L 357.511728 141.916974  L 357.705344 141.103227  L 358.092575 154.218117  L 358.28619 152.427873  L 358.479806 148.020077  L 358.673421 150.298569  L 358.867037 154.340179  L 359.060652 153.051746  L 359.254268 149.417009  L 359.447883 154.774177  L 359.641499 152.73981  L 359.835115 148.779574  L 360.02873 153.065309  L 360.222346 154.774177  L 360.415961 151.125878  L 360.609577 149.891695  L 360.803192 144.466714  L 360.996808 146.894393  L 361.577654 145.795835  L 361.77127 144.100528  L 361.964885 141.265976  L 362.545732 155.181051  L 362.739348 155.913423  L 362.932963 157.418855  L 363.126579 150.162944  L 363.320194 151.044503  L 363.51381 147.084268  L 363.707425 149.728946  L 363.901041 147.070705  L 364.094656 150.434193  L 364.288272 147.355517  L 364.675503 156.998419  L 364.869119 156.157547  L 365.062734 153.105996  L 365.25635 153.851931  L 365.449965 150.407068  L 365.643581 155.50655  L 365.837196 152.671998  L 366.030812 147.165642  L 366.224427 151.275065  L 366.418043 150.122257  L 366.611659 150.447755  L 366.805274 153.40437  L 366.99889 148.508325  L 367.192505 150.759692  L 367.386121 142.201785  L 367.579736 145.578835  L 367.773352 146.596019  L 368.160583 156.415234  L 368.354198 153.919743  L 368.547814 145.578835  L 368.74143 142.974845  L 368.935045 149.498384  L 369.128661 145.985709  L 369.322276 151.166565  L 369.515892 152.427873  L 369.709507 149.851008  L 369.903123 151.41069  L 370.096738 151.600564  L 370.290354 148.386263  L 370.483969 148.155701  L 370.677585 151.709063  L 370.871201 151.804001  L 371.064816 149.945945  L 371.258432 151.505627  L 371.452047 149.86457  L 371.645663 153.96043  L 371.839278 153.092433  L 372.226509 153.512869  L 372.420125 157.812167  L 372.61374 159.209099  L 372.807356 161.663903  L 373.000972 154.936927  L 373.194587 157.893541  L 373.388203 152.021  L 373.581818 153.919743  L 373.581818 153.919743  \" clip-path=\"url(#pcb443a070c)\" style=\"fill: none; stroke: #00bfff; stroke-linecap: square\"/>\n   </g>\n   <g id=\"patch_3\">\n    <path d=\"M 54 252  L 54 34.56  \" style=\"fill: none; stroke: #000000; stroke-width: 0.8; stroke-linejoin: miter; stroke-linecap: square\"/>\n   </g>\n   <g id=\"patch_4\">\n    <path d=\"M 388.8 252  L 388.8 34.56  \" style=\"fill: none; stroke: #000000; stroke-width: 0.8; stroke-linejoin: miter; stroke-linecap: square\"/>\n   </g>\n   <g id=\"patch_5\">\n    <path d=\"M 54 252  L 388.8 252  \" style=\"fill: none; stroke: #000000; stroke-width: 0.8; stroke-linejoin: miter; stroke-linecap: square\"/>\n   </g>\n   <g id=\"patch_6\">\n    <path d=\"M 54 34.56  L 388.8 34.56  \" style=\"fill: none; stroke: #000000; stroke-width: 0.8; stroke-linejoin: miter; stroke-linecap: square\"/>\n   </g>\n   <g id=\"legend_1\">\n    <g id=\"patch_7\">\n     <path d=\"M 61 71.91625  L 119.914062 71.91625  Q 121.914062 71.91625 121.914062 69.91625  L 121.914062 41.56  Q 121.914062 39.56 119.914062 39.56  L 61 39.56  Q 59 39.56 59 41.56  L 59 69.91625  Q 59 71.91625 61 71.91625  z \" style=\"fill: #ffffff; opacity: 0.8; stroke: #cccccc; stroke-linejoin: miter\"/>\n    </g>\n    <g id=\"line2d_20\">\n     <path d=\"M 63 47.658437  L 73 47.658437  L 83 47.658437  \" style=\"fill: none; stroke: #dc143c; stroke-linecap: square\"/>\n    </g>\n    <g id=\"text_20\">\n     <!-- POPS -->\n     <g transform=\"translate(91 51.158437)scale(0.1 -0.1)\">\n      <defs>\n       <path id=\"DejaVuSans-50\" d=\"M 1259 4147  L 1259 2394  L 2053 2394  Q 2494 2394 2734 2622  Q 2975 2850 2975 3272  Q 2975 3691 2734 3919  Q 2494 4147 2053 4147  L 1259 4147  z M 628 4666  L 2053 4666  Q 2838 4666 3239 4311  Q 3641 3956 3641 3272  Q 3641 2581 3239 2228  Q 2838 1875 2053 1875  L 1259 1875  L 1259 0  L 628 0  L 628 4666  z \" transform=\"scale(0.015625)\"/>\n       <path id=\"DejaVuSans-4f\" d=\"M 2522 4238  Q 1834 4238 1429 3725  Q 1025 3213 1025 2328  Q 1025 1447 1429 934  Q 1834 422 2522 422  Q 3209 422 3611 934  Q 4013 1447 4013 2328  Q 4013 3213 3611 3725  Q 3209 4238 2522 4238  z M 2522 4750  Q 3503 4750 4090 4092  Q 4678 3434 4678 2328  Q 4678 1225 4090 567  Q 3503 -91 2522 -91  Q 1538 -91 948 565  Q 359 1222 359 2328  Q 359 3434 948 4092  Q 1538 4750 2522 4750  z \" transform=\"scale(0.015625)\"/>\n       <path id=\"DejaVuSans-53\" d=\"M 3425 4513  L 3425 3897  Q 3066 4069 2747 4153  Q 2428 4238 2131 4238  Q 1616 4238 1336 4038  Q 1056 3838 1056 3469  Q 1056 3159 1242 3001  Q 1428 2844 1947 2747  L 2328 2669  Q 3034 2534 3370 2195  Q 3706 1856 3706 1288  Q 3706 609 3251 259  Q 2797 -91 1919 -91  Q 1588 -91 1214 -16  Q 841 59 441 206  L 441 856  Q 825 641 1194 531  Q 1563 422 1919 422  Q 2459 422 2753 634  Q 3047 847 3047 1241  Q 3047 1584 2836 1778  Q 2625 1972 2144 2069  L 1759 2144  Q 1053 2284 737 2584  Q 422 2884 422 3419  Q 422 4038 858 4394  Q 1294 4750 2059 4750  Q 2388 4750 2728 4690  Q 3069 4631 3425 4513  z \" transform=\"scale(0.015625)\"/>\n      </defs>\n      <use xlink:href=\"#DejaVuSans-50\"/>\n      <use xlink:href=\"#DejaVuSans-4f\" x=\"60.302734\"/>\n      <use xlink:href=\"#DejaVuSans-50\" x=\"139.013672\"/>\n      <use xlink:href=\"#DejaVuSans-53\" x=\"199.316406\"/>\n     </g>\n    </g>\n    <g id=\"line2d_21\">\n     <path d=\"M 63 62.336562  L 73 62.336562  L 83 62.336562  \" style=\"fill: none; stroke: #00bfff; stroke-linecap: square\"/>\n    </g>\n    <g id=\"text_21\">\n     <!-- POPC -->\n     <g transform=\"translate(91 65.836562)scale(0.1 -0.1)\">\n      <defs>\n       <path id=\"DejaVuSans-43\" d=\"M 4122 4306  L 4122 3641  Q 3803 3938 3442 4084  Q 3081 4231 2675 4231  Q 1875 4231 1450 3742  Q 1025 3253 1025 2328  Q 1025 1406 1450 917  Q 1875 428 2675 428  Q 3081 428 3442 575  Q 3803 722 4122 1019  L 4122 359  Q 3791 134 3420 21  Q 3050 -91 2638 -91  Q 1578 -91 968 557  Q 359 1206 359 2328  Q 359 3453 968 4101  Q 1578 4750 2638 4750  Q 3056 4750 3426 4639  Q 3797 4528 4122 4306  z \" transform=\"scale(0.015625)\"/>\n      </defs>\n      <use xlink:href=\"#DejaVuSans-50\"/>\n      <use xlink:href=\"#DejaVuSans-4f\" x=\"60.302734\"/>\n      <use xlink:href=\"#DejaVuSans-50\" x=\"139.013672\"/>\n      <use xlink:href=\"#DejaVuSans-43\" x=\"199.316406\"/>\n     </g>\n    </g>\n   </g>\n  </g>\n </g>\n <defs>\n  <clipPath id=\"pcb443a070c\">\n   <rect x=\"54\" y=\"34.56\" width=\"334.8\" height=\"217.44\"/>\n  </clipPath>\n </defs>\n</svg>",
      "text/plain": [
       "<IPython.core.display.SVG object>"
      ]
     },
     "metadata": {},
     "output_type": "display_data"
    }
   ],
   "source": [
    "display(HTML(f'<img src=\"lfda_het_aa/curvature_framewise_angles_framewise.svg\"\"></img>'))"
   ]
  },
  {
   "cell_type": "code",
   "execution_count": 25,
   "id": "5f1d4a17",
   "metadata": {},
   "outputs": [
    {
     "name": "stdout",
     "output_type": "stream",
     "text": [
      "Creating 100 window size curvature plots\n"
     ]
    },
    {
     "name": "stderr",
     "output_type": "stream",
     "text": [
      "MDAnalysis.analysis.base: INFO     Choosing frames to analyze\n",
      "MDAnalysis.analysis.base: INFO     Choosing frames to analyze\n",
      "MDAnalysis.analysis.base: INFO     Starting preparation\n",
      "MDAnalysis.analysis.base: INFO     Starting preparation\n",
      "MDAnalysis.analysis.base: INFO     Finishing up\n",
      "MDAnalysis.analysis.base: INFO     Finishing up\n"
     ]
    }
   ],
   "source": [
    "#create curvature plots for a moving window of size 100. Plots created are for the windows 0-100, 100-200 and so on for our case.\n",
    "experiment.curvature(window=100)"
   ]
  },
  {
   "cell_type": "code",
   "execution_count": 26,
   "id": "fb28fa32",
   "metadata": {},
   "outputs": [
    {
     "data": {
      "text/html": [
       "<img src=\"het_memb/lfda_het_aa/curvature_moving_window_10_10_P_window_500_600.svg\"\"></img>"
      ],
      "text/plain": [
       "<IPython.core.display.HTML object>"
      ]
     },
     "metadata": {},
     "output_type": "display_data"
    }
   ],
   "source": [
    "display(HTML(f'<img src=\"lfda_het_aa/curvature_moving_window_10_10_P_window_500_600.svg\"\"></img>'))"
   ]
  },
  {
   "cell_type": "code",
   "execution_count": 27,
   "id": "41a23f78",
   "metadata": {},
   "outputs": [
    {
     "data": {
      "text/html": [
       "<img src=\"het_memb/lfda_het_aa/curvature_moving_window_angles_windowed_100.svg\"\"></img>"
      ],
      "text/plain": [
       "<IPython.core.display.HTML object>"
      ]
     },
     "metadata": {},
     "output_type": "display_data"
    }
   ],
   "source": [
    "display(HTML(f'<img src=\"lfda_het_aa/curvature_moving_window_angles_windowed_100.svg\"\"></img>'))"
   ]
  },
  {
   "cell_type": "code",
   "execution_count": 28,
   "id": "fca4f397",
   "metadata": {},
   "outputs": [
    {
     "name": "stdout",
     "output_type": "stream",
     "text": [
      "Creating framewise average force plot\n",
      "Force plots created and saved for frame - 50\n"
     ]
    }
   ],
   "source": [
    "#create force plots for the 50th frame\n",
    "experiment.force_graph(specific_frame=50)"
   ]
  },
  {
   "cell_type": "code",
   "execution_count": 29,
   "id": "d62807fd",
   "metadata": {},
   "outputs": [
    {
     "data": {
      "text/html": [
       "<img src=\"het_memb/lfda_het_aa/force_specific_frame_POPS_50.svg\"\"></img>"
      ],
      "text/plain": [
       "<IPython.core.display.HTML object>"
      ]
     },
     "metadata": {},
     "output_type": "display_data"
    }
   ],
   "source": [
    "#visualise the plots\n",
    "display(HTML(f'<img src=\"lfda_het_aa/force_specific_frame_POPS_50.svg\"\"></img>'))"
   ]
  },
  {
   "cell_type": "code",
   "execution_count": 30,
   "id": "8d872672",
   "metadata": {},
   "outputs": [
    {
     "data": {
      "text/html": [
       "<img src=\"het_memb/lfda_het_aa/force_specific_frame_POPC_50.svg\"\"></img>"
      ],
      "text/plain": [
       "<IPython.core.display.HTML object>"
      ]
     },
     "metadata": {},
     "output_type": "display_data"
    }
   ],
   "source": [
    "display(HTML(f'<img src=\"lfda_het_aa/force_specific_frame_POPC_50.svg\"\"></img>'))"
   ]
  },
  {
   "cell_type": "code",
   "execution_count": 31,
   "id": "ce0b921d",
   "metadata": {},
   "outputs": [
    {
     "name": "stdout",
     "output_type": "stream",
     "text": [
      "Creating framewise average force plot\n",
      "Force plots created and saved for moving window of size - 100\n"
     ]
    }
   ],
   "source": [
    "#create force plots for a moving window of size 20.\n",
    "experiment.force_graph(window=100)"
   ]
  },
  {
   "cell_type": "code",
   "execution_count": 32,
   "id": "b8fe37fd",
   "metadata": {},
   "outputs": [
    {
     "data": {
      "text/html": [
       "<img src=\"het_memb/lfda_het_aa/force_moving_window_POPC_400_to_500.svg\"\"></img>"
      ],
      "text/plain": [
       "<IPython.core.display.HTML object>"
      ]
     },
     "metadata": {},
     "output_type": "display_data"
    }
   ],
   "source": [
    "display(HTML(f'<img src=\"lfda_het_aa/force_moving_window_POPC_400_to_500.svg\"\"></img>'))"
   ]
  },
  {
   "cell_type": "code",
   "execution_count": 33,
   "id": "16ea78fb",
   "metadata": {},
   "outputs": [
    {
     "data": {
      "text/html": [
       "<img src=\"het_memb/lfda_het_aa/force_moving_window_POPS_400_to_500.svg\"\"></img>"
      ],
      "text/plain": [
       "<IPython.core.display.HTML object>"
      ]
     },
     "metadata": {},
     "output_type": "display_data"
    }
   ],
   "source": [
    "display(HTML(f'<img src=\"lfda_het_aa/force_moving_window_POPS_400_to_500.svg\"\"></img>'))"
   ]
  },
  {
   "cell_type": "code",
   "execution_count": 34,
   "id": "28a99874",
   "metadata": {},
   "outputs": [
    {
     "name": "stdout",
     "output_type": "stream",
     "text": [
      "Loading a new PDB file with bFactor\n",
      "PDB with BFactor values created in 32.759814500808716 seconds\n"
     ]
    }
   ],
   "source": [
    "#Create new PDB files with bFactor Loaded.\n",
    "experiment.bfactor_pdb(bfactor_pdb_filename=\"bfactor_pdb_combined\", mode=\"combined\")"
   ]
  },
  {
   "cell_type": "code",
   "execution_count": 35,
   "id": "3e091a0c",
   "metadata": {},
   "outputs": [
    {
     "name": "stdout",
     "output_type": "stream",
     "text": [
      "Loading a new PDB file with bFactor\n",
      "PDB with BFactor values created in 31.09873628616333 seconds\n"
     ]
    }
   ],
   "source": [
    "experiment.bfactor_pdb(bfactor_pdb_filename=\"bfactor_pdb_atomwise\", mode=\"atomwise\")"
   ]
  },
  {
   "cell_type": "markdown",
   "id": "6360f7e0",
   "metadata": {},
   "source": [
    "# Lipid Angles\n",
    "\n",
    "This function calculates the angle between the vector of the selected lipids and the z-axis. The vector is defined between the P atom and the specified atom. The function allows you to calculate the angle individually for each lipid or group them together to calculate the average angle. \\\n",
    "\\\n",
    "Arguments: \n",
    " - `selection`: (list) List of lipids for which the angle has to be calculated.\n",
    " - `grouping`: ('combine'/'individual') Whether to group the selected lipids or keep them individual.\n",
    " - `c_atom_name`: (str) Name of the atom to which the lipid vector is to be defined. default: 'C4B'."
   ]
  },
  {
   "cell_type": "code",
   "execution_count": 36,
   "id": "940378de",
   "metadata": {},
   "outputs": [
    {
     "name": "stdout",
     "output_type": "stream",
     "text": [
      "Calculating lipid angles with vector as P -> C4B\n"
     ]
    }
   ],
   "source": [
    "#Lipid angles grouped indivudally with vector defined as P -> C4B\n",
    "experiment.angles(selection=['POPC', 'POPS', 'POPE', 'PSM'], grouping = 'individual', c_atom_name = 'C4B')"
   ]
  },
  {
   "cell_type": "code",
   "execution_count": 37,
   "id": "f868e0f0",
   "metadata": {},
   "outputs": [
    {
     "data": {
      "text/html": [
       "<img src=\"het_memb/lfda_het_aa/angles_framewise_P_to_C4B_POPC_POPS_POPE_PSM.svg\"\"></img>"
      ],
      "text/plain": [
       "<IPython.core.display.HTML object>"
      ]
     },
     "metadata": {},
     "output_type": "display_data"
    }
   ],
   "source": [
    "display(HTML(f'<img src=\"lfda_het_aa/angles_framewise_P_to_C4B_POPC_POPS_POPE_PSM.svg\"\"></img>'))"
   ]
  },
  {
   "cell_type": "code",
   "execution_count": 38,
   "id": "adefc45b",
   "metadata": {},
   "outputs": [
    {
     "name": "stdout",
     "output_type": "stream",
     "text": [
      "Calculating lipid angles with vector as P -> C4B\n"
     ]
    }
   ],
   "source": [
    "#Lipid angles grouped indivudally and spllt into Upper and Lower Membranes, with vector defined as P -> C4B\n",
    "experiment.angles(selection=['POPC', 'POPS', 'POPE', 'PSM'], grouping = 'individual', c_atom_name = 'C4B', split = True)"
   ]
  },
  {
   "cell_type": "code",
   "execution_count": 39,
   "id": "afbc321c",
   "metadata": {},
   "outputs": [
    {
     "data": {
      "text/html": [
       "<img src=\"het_memb/lfda_het_aa/angles_framewise_P_to_C4B_POPC_POPS_POPE_PSM_Upper.svg\"\"></img>"
      ],
      "text/plain": [
       "<IPython.core.display.HTML object>"
      ]
     },
     "metadata": {},
     "output_type": "display_data"
    }
   ],
   "source": [
    "display(HTML(f'<img src=\"lfda_het_aa/angles_framewise_P_to_C4B_POPC_POPS_POPE_PSM_Upper.svg\"\"></img>'))"
   ]
  },
  {
   "cell_type": "code",
   "execution_count": 40,
   "id": "d1bc5f9e",
   "metadata": {},
   "outputs": [
    {
     "data": {
      "text/html": [
       "<img src=\"het_memb/lfda_het_aa/angles_framewise_P_to_C4B_POPC_POPS_POPE_PSM_Lower.svg\"\"></img>"
      ],
      "text/plain": [
       "<IPython.core.display.HTML object>"
      ]
     },
     "metadata": {},
     "output_type": "display_data"
    }
   ],
   "source": [
    "display(HTML(f'<img src=\"lfda_het_aa/angles_framewise_P_to_C4B_POPC_POPS_POPE_PSM_Lower.svg\"\"></img>'))"
   ]
  },
  {
   "cell_type": "code",
   "execution_count": 41,
   "id": "9cf02993",
   "metadata": {},
   "outputs": [
    {
     "name": "stdout",
     "output_type": "stream",
     "text": [
      "Calculating lipid angles with vector as P -> C4B\n"
     ]
    }
   ],
   "source": [
    "#Lipid angles grouped with vector defined as P -> C4B\n",
    "experiment.angles(selection=['POPC', 'POPS', 'POPE', 'PSM'], grouping = 'combine', c_atom_name = 'C4B')"
   ]
  },
  {
   "cell_type": "code",
   "execution_count": 42,
   "id": "4592cb4b",
   "metadata": {},
   "outputs": [
    {
     "data": {
      "text/html": [
       "<img src=\"het_memb/lfda_het_aa/angles_framewise_combined_P_to_C4B.svg\"\"></img>"
      ],
      "text/plain": [
       "<IPython.core.display.HTML object>"
      ]
     },
     "metadata": {},
     "output_type": "display_data"
    }
   ],
   "source": [
    "display(HTML(f'<img src=\"lfda_het_aa/angles_framewise_combined_P_to_C4B.svg\"\"></img>'))"
   ]
  }
 ],
 "metadata": {
  "kernelspec": {
   "display_name": "Python 3 (ipykernel)",
   "language": "python",
   "name": "python3"
  },
  "language_info": {
   "codemirror_mode": {
    "name": "ipython",
    "version": 3
   },
   "file_extension": ".py",
   "mimetype": "text/x-python",
   "name": "python",
   "nbconvert_exporter": "python",
   "pygments_lexer": "ipython3",
   "version": "3.10.0"
  },
  "toc": {
   "base_numbering": 1,
   "nav_menu": {},
   "number_sections": true,
   "sideBar": true,
   "skip_h1_title": false,
   "title_cell": "Table of Contents",
   "title_sidebar": "Contents",
   "toc_cell": true,
   "toc_position": {
    "height": "calc(100% - 180px)",
    "left": "10px",
    "top": "150px",
    "width": "300.312px"
   },
   "toc_section_display": true,
   "toc_window_display": false
  }
 },
 "nbformat": 4,
 "nbformat_minor": 5
}
