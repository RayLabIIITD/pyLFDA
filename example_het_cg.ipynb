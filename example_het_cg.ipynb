{
 "cells": [
  {
   "cell_type": "markdown",
   "id": "101a7955",
   "metadata": {
    "toc": true
   },
   "source": [
    "<h1>Table of Contents<span class=\"tocSkip\"></span></h1>\n",
    "<div class=\"toc\"><ul class=\"toc-item\"><li><span><a href=\"#Create-an-Experiment\" data-toc-modified-id=\"Create-an-Experiment-1\"><span class=\"toc-item-num\">1&nbsp;&nbsp;</span>Create an Experiment</a></span><ul class=\"toc-item\"><li><ul class=\"toc-item\"><li><span><a href=\"#About-the-System\" data-toc-modified-id=\"About-the-System-1.0.1\"><span class=\"toc-item-num\">1.0.1&nbsp;&nbsp;</span>About the System</a></span></li></ul></li><li><span><a href=\"#Run-GROMACS-FDA\" data-toc-modified-id=\"Run-GROMACS-FDA-1.1\"><span class=\"toc-item-num\">1.1&nbsp;&nbsp;</span>Run GROMACS FDA</a></span></li></ul></li><li><span><a href=\"#Parsing-PFA-File\" data-toc-modified-id=\"Parsing-PFA-File-2\"><span class=\"toc-item-num\">2&nbsp;&nbsp;</span>Parsing PFA File</a></span><ul class=\"toc-item\"><li><span><a href=\"#Averaged-Parsing\" data-toc-modified-id=\"Averaged-Parsing-2.1\"><span class=\"toc-item-num\">2.1&nbsp;&nbsp;</span>Averaged Parsing</a></span></li></ul></li><li><span><a href=\"#Curvature\" data-toc-modified-id=\"Curvature-3\"><span class=\"toc-item-num\">3&nbsp;&nbsp;</span>Curvature</a></span><ul class=\"toc-item\"><li><ul class=\"toc-item\"><li><span><a href=\"#Description-of-the-Curvature-Plots\" data-toc-modified-id=\"Description-of-the-Curvature-Plots-3.0.1\"><span class=\"toc-item-num\">3.0.1&nbsp;&nbsp;</span>Description of the Curvature Plots</a></span></li></ul></li></ul></li><li><span><a href=\"#Cluster\" data-toc-modified-id=\"Cluster-4\"><span class=\"toc-item-num\">4&nbsp;&nbsp;</span>Cluster</a></span></li><li><span><a href=\"#Force\" data-toc-modified-id=\"Force-5\"><span class=\"toc-item-num\">5&nbsp;&nbsp;</span>Force</a></span></li><li><span><a href=\"#MSD-and-Diffusion\" data-toc-modified-id=\"MSD-and-Diffusion-6\"><span class=\"toc-item-num\">6&nbsp;&nbsp;</span>MSD and Diffusion</a></span></li><li><span><a href=\"#Framewise-parsing-of-PFA\" data-toc-modified-id=\"Framewise-parsing-of-PFA-7\"><span class=\"toc-item-num\">7&nbsp;&nbsp;</span>Framewise parsing of PFA</a></span></li><li><span><a href=\"#Lipid-Angles\" data-toc-modified-id=\"Lipid-Angles-8\"><span class=\"toc-item-num\">8&nbsp;&nbsp;</span>Lipid Angles</a></span></li></ul></div>"
   ]
  },
  {
   "cell_type": "code",
   "execution_count": 1,
   "id": "5651f343",
   "metadata": {},
   "outputs": [
    {
     "name": "stderr",
     "output_type": "stream",
     "text": [
      "MDAnalysis  : INFO     MDAnalysis 2.0.0 STARTED logging to 'MDAnalysis.log'\n",
      "MDAnalysis  : INFO     MDAnalysis 2.0.0 STARTED logging to 'MDAnalysis.log'\n",
      "MDAnalysis  : INFO     MDAnalysis 2.0.0 STARTED logging to 'MDAnalysis.log'\n"
     ]
    }
   ],
   "source": [
    "from pyLFDA import LFDA\n",
    "from IPython.display import SVG, display, Image, HTML"
   ]
  },
  {
   "cell_type": "markdown",
   "id": "dc16479b",
   "metadata": {},
   "source": [
    "# Create an Experiment\n",
    "the `LFDA()` class is central in running analysis on your simulations. \\\n",
    "\\\n",
    "Arguments:\n",
    "-   `experiment_name` : Name of the experiment. Uses this to create a directory to store outputs in. If not specified time-stamp of experiment will be used.\n",
    "-   `pdb_filename` : Path of the PDB file to be used.\n",
    "-   `gro_filename` : Path of the GRO file to be used.\n",
    "-   `trr_filename` : Path of the TRR file to be used.\n",
    "-   `tpr_filename` : Path of the TPR file to be used.\n",
    "-   `ndx_filename` : Path of the NDX file to be used.\n",
    "-   `gfda_version` : Version of Gromacs FDA to be used. Creates a directory with the name to store it and uses it for further experiments. Currently, we support these cersions only - ['v2020.4-fda2.10.2', 'v2020.3-fda2.10.1', 'v2020.3-fda2.10', 'v2020-fda2.10', 'v2019.3-fda2.9.1', 'v2018.7-fda2.9.1']. "
   ]
  },
  {
   "cell_type": "code",
   "execution_count": 2,
   "id": "b14a0b36",
   "metadata": {},
   "outputs": [
    {
     "name": "stdout",
     "output_type": "stream",
     "text": [
      "Making MDA Universe from PDB and TRR file\n",
      "Parsing GRO file to calculate numbers of atoms, atoms information and box vectors\n",
      "/mnt/c/Users/bhava/Desktop/work/lfda/pyLFDA/het_memb/het-cg/step7_production.gro file parsed. with 14564 atoms in 0.07831740379333496 seconds\n"
     ]
    }
   ],
   "source": [
    "#To do analysis, first we create an LFDA() object.\n",
    "#It stores all files required to do the experiment.\n",
    "#The argument names are self explanatory.\n",
    "experiment = LFDA(experiment_name=\"lfda_het_cg\", trr_filename=\"het-cg/step7_production.trr\", tpr_filename=\"het-cg/step7_production.tpr\", ndx_filename=\"het-cg/index.ndx\", pdb_filename=\"het-cg/step7_production.pdb\", gro_filename=\"het-cg/step7_production.gro\", gfda_version=\"v2020.4-fda2.10.2\")\n",
    "#The specified version will automatically be downloaded and be used for any subsequent experiments if the files are run from the same directory."
   ]
  },
  {
   "cell_type": "markdown",
   "id": "f1c4660b",
   "metadata": {},
   "source": [
    "### About the System\n",
    " - This is a heterogenous course grained Martini System with the following molecules:\n",
    "    - POPC: 360\n",
    "    - POSM: 18\n",
    "    - POPE: 144\n",
    "    - POPI: 60\n",
    "    - POPS: 18\n",
    "    - W: 7184\n",
    "    - NA: 78"
   ]
  },
  {
   "cell_type": "markdown",
   "id": "bca862b5",
   "metadata": {},
   "source": [
    "## Run GROMACS FDA\n",
    "`run_fda()` create `.pfi` file and then generating a PFA file using GROMACS FDA. \\\n",
    " \\\n",
    " Arguments : \n",
    "   -   `group1` : 1st group selected\n",
    "   -   `group2` : 2nd group selected\n",
    "   -   `residue_list` : [group1, group2]\n",
    "   -   `pfi_filename` : Name of the PFI file to be generated. It is inferred from the experiment class if None.\n",
    "   -   `pfa_filename` : Name of the PFA file to be generated. It is inferred from the experiment class if None."
   ]
  },
  {
   "cell_type": "code",
   "execution_count": 3,
   "id": "c8ca7097",
   "metadata": {},
   "outputs": [
    {
     "name": "stdout",
     "output_type": "stream",
     "text": [
      "Creating PFI file\n",
      "/mnt/c/Users/bhava/Desktop/work/lfda/pyLFDA/het_memb/lfda_het_cg/pfi_Dec-17-2021_1935.pfi file created in 0.004339694976806641 seconds \n",
      "Running Gromacs FDA\n",
      "ResidueRenumber: auto\n",
      "Vector2Scalar: norm\n",
      "Pairwise interactions selected: all\n",
      "Pairwise forces for groups: POPS and POPC\n",
      "Binary mode: 0\n",
      "Threshold: 1e-10\n",
      "Normalize punctual stress per residue: 0\n",
      "Ignore missing potentials: 1\n"
     ]
    },
    {
     "name": "stderr",
     "output_type": "stream",
     "text": [
      "       :-) GROMACS - gmx mdrun, 2020.4-dev-20201029-4b5790511-unknown (-:\n",
      "\n",
      "                            GROMACS is written by:\n",
      "     Emile Apol      Rossen Apostolov      Paul Bauer     Herman J.C. Berendsen\n",
      "    Par Bjelkmar      Christian Blau   Viacheslav Bolnykh     Kevin Boyd    \n",
      " Aldert van Buuren   Rudi van Drunen     Anton Feenstra       Alan Gray     \n",
      "  Gerrit Groenhof     Anca Hamuraru    Vincent Hindriksen  M. Eric Irrgang  \n",
      "  Aleksei Iupinov   Christoph Junghans     Joe Jordan     Dimitrios Karkoulis\n",
      "    Peter Kasson        Jiri Kraus      Carsten Kutzner      Per Larsson    \n",
      "  Justin A. Lemkul    Viveca Lindahl    Magnus Lundborg     Erik Marklund   \n",
      "    Pascal Merz     Pieter Meulenhoff    Teemu Murtola       Szilard Pall   \n",
      "    Sander Pronk      Roland Schulz      Michael Shirts    Alexey Shvetsov  \n",
      "   Alfons Sijbers     Peter Tieleman      Jon Vincent      Teemu Virolainen \n",
      " Christian Wennberg    Maarten Wolf      Artem Zhmurov   \n",
      "                           and the project leaders:\n",
      "        Mark Abraham, Berk Hess, Erik Lindahl, and David van der Spoel\n",
      "\n",
      "Copyright (c) 1991-2000, University of Groningen, The Netherlands.\n",
      "Copyright (c) 2001-2019, The GROMACS development team at\n",
      "Uppsala University, Stockholm University and\n",
      "the Royal Institute of Technology, Sweden.\n",
      "check out http://www.gromacs.org for more information.\n",
      "\n",
      "GROMACS is free software; you can redistribute it and/or modify it\n",
      "under the terms of the GNU Lesser General Public License\n",
      "as published by the Free Software Foundation; either version 2.1\n",
      "of the License, or (at your option) any later version.\n",
      "\n",
      "GROMACS:      gmx mdrun, version 2020.4-dev-20201029-4b5790511-unknown\n",
      "Executable:   /mnt/c/Users/bhava/Desktop/work/lfda/pyLFDA/het_memb/v2020.4-fda2.10.2/bin/./gmx_fda\n",
      "Data prefix:  /mnt/c/Users/bhava/Desktop/work/lfda/pyLFDA/het_memb/v2020.4-fda2.10.2\n",
      "Working dir:  /mnt/c/Users/bhava/Desktop/work/lfda/pyLFDA/het_memb\n",
      "Command line:\n",
      "  gmx_fda mdrun -rerun /mnt/c/Users/bhava/Desktop/work/lfda/pyLFDA/het_memb/het-cg/step7_production.trr -s /mnt/c/Users/bhava/Desktop/work/lfda/pyLFDA/het_memb/het-cg/step7_production.tpr -pfi /mnt/c/Users/bhava/Desktop/work/lfda/pyLFDA/het_memb/lfda_het_cg/pfi_Dec-17-2021_1935.pfi -nt 1 -pfa /mnt/c/Users/bhava/Desktop/work/lfda/pyLFDA/het_memb/lfda_het_cg/pfa_file.pfa -pfn /mnt/c/Users/bhava/Desktop/work/lfda/pyLFDA/het_memb/het-cg/index.ndx\n",
      "\n",
      "\n",
      "Back Off! I just backed up md.log to ./#md.log.3#\n",
      "Compiled SIMD: None, but for this host/run AVX2_256 might be better (see log).\n",
      "The current CPU can measure timings more accurately than the code in\n",
      "gmx mdrun was configured to use. This might affect your simulation\n",
      "speed as accurate timings are needed for load-balancing.\n",
      "Please consider rebuilding gmx mdrun with the GMX_USE_RDTSCP=ON CMake option.\n",
      "Reading file /mnt/c/Users/bhava/Desktop/work/lfda/pyLFDA/het_memb/het-cg/step7_production.tpr, VERSION 2020 (single precision)\n",
      "Residue number collision detected, residues will be renumbered.\n",
      "Changing nstlist from 20 to 25, rlist from 1.212 to 1.26\n",
      "\n",
      "\n",
      "Using 1 MPI thread\n",
      "\n",
      "Non-default thread affinity set, disabling internal thread affinity\n",
      "\n",
      "Using 1 OpenMP thread \n",
      "\n",
      "\n",
      "WARNING: Using the slow plain C kernels. This should\n",
      "not happen during routine usage on supported platforms.\n",
      "\n",
      "Back Off! I just backed up traj.trr to ./#traj.trr.3#\n",
      "\n",
      "Back Off! I just backed up ener.edr to ./#ener.edr.3#\n",
      "\n",
      "WARNING: This run will generate roughly 5006 Mb of data\n",
      "\n",
      "starting md rerun 'Martini system', reading coordinates from input trajectory '/mnt/c/Users/bhava/Desktop/work/lfda/pyLFDA/het_memb/het-cg/step7_production.trr'\n",
      "\n",
      "trr version: GMX_trn_file (single precision)\n",
      "Reading frame    9000 time 900000.000   "
     ]
    },
    {
     "name": "stdout",
     "output_type": "stream",
     "text": [
      "GMX RUN completed in 615.8366215229034 seconds\n",
      "/mnt/c/Users/bhava/Desktop/work/lfda/pyLFDA/het_memb/lfda_het_cg/pfa_file.pfa PFA file is generated in /mnt/c/Users/bhava/Desktop/work/lfda/pyLFDA/het_memb/lfda_het_cg\n"
     ]
    },
    {
     "name": "stderr",
     "output_type": "stream",
     "text": [
      "Last frame      10000 time 1000000.000   \n",
      "\n",
      "NOTE: 15 % of the run time was spent in pair search,\n",
      "      you might want to increase nstlist (this has no effect on accuracy)\n",
      "\n",
      "               Core t (s)   Wall t (s)        (%)\n",
      "       Time:      615.627      615.642      100.0\n",
      "                 (ns/day)    (hour/ns)\n",
      "Performance:   140341.243        0.000\n",
      "\n",
      "GROMACS reminds you: \"What is a Unix or Linux sysadmin's favourite hangout place? Foo Bar.\" (Anonymous)\n",
      "\n"
     ]
    }
   ],
   "source": [
    "#Run GROMACS FDA to calculate pairwise forces.\n",
    "#This command creates a .pfa file containing pairwise forces between atoms.\n",
    "experiment.run_fda(group1=\"POPS\", group2=\"POPC\", residue_list=[\"POPS\", \"POPC\"], pfa_filename=\"pfa_file.pfa\")"
   ]
  },
  {
   "cell_type": "code",
   "execution_count": 4,
   "id": "ae52caa1",
   "metadata": {},
   "outputs": [
    {
     "name": "stdout",
     "output_type": "stream",
     "text": [
      "Loading PFA file generated by Gromacs FDA\n"
     ]
    }
   ],
   "source": [
    "#Running GROMACS FDA can be a time consuming process.\n",
    "#If you want to continue experimenting on a .pfa file you had previously generated.\n",
    "#you can just load it and continue working.\n",
    "#you dont need to run `run_fda()` if you load your .pfa file.\n",
    "experiment.load_pfa(pfa_filename=\"lfda_het_cg/pfa_file.pfa\", group1=\"POPS\", group2=\"POPC\", residue_list=[\"POPS\", \"POPC\"])"
   ]
  },
  {
   "cell_type": "markdown",
   "id": "7c3220aa",
   "metadata": {},
   "source": [
    "# Parsing PFA File\n",
    "The `.pfa` file generated by GROMACS FDA is parsed for further analyses. The file can be parsed in two ways depending on your use case. \n",
    " - `Average Parsing` - Allows for calculation of averaged properties over all frames. set `mode` argument to `average`.\n",
    " - `Framewise Parsing` - Allows for calculation of either properties for a specific frame or for a moving window over all frames. set `mode` argument to `framewise`.\n"
   ]
  },
  {
   "cell_type": "markdown",
   "id": "244134ea",
   "metadata": {},
   "source": [
    "## Averaged Parsing"
   ]
  },
  {
   "cell_type": "code",
   "execution_count": 5,
   "id": "71eacbc9",
   "metadata": {},
   "outputs": [
    {
     "name": "stdout",
     "output_type": "stream",
     "text": [
      "Parsing PFA file as average\n",
      "Parsed PFA file /mnt/c/Users/bhava/Desktop/work/lfda/pyLFDA/het_memb/lfda_het_cg/generated_pfa_average.pfa created with 14564 atoms in 263.49041056632996 seconds\n",
      "Summed PFA file parsed in 0.06467533111572266 seconds\n"
     ]
    }
   ],
   "source": [
    "#The .pfa file created, is parsed as average or framewise.\n",
    "experiment.framewise=False #we specify that we need to parse pfa as average.\n",
    "experiment.parse_pfa(file_name=\"generated_pfa_average.pfa\")"
   ]
  },
  {
   "cell_type": "code",
   "execution_count": 6,
   "id": "34535933",
   "metadata": {},
   "outputs": [
    {
     "name": "stdout",
     "output_type": "stream",
     "text": [
      "Loading Average parsed PFA file\n",
      "Summed PFA file parsed in 0.029172658920288086 seconds\n"
     ]
    }
   ],
   "source": [
    "#Parsing .pfa can also be time consuming.\n",
    "#You can just load the parsed .pfa to continue experimenting.\n",
    "#The generated pfa file should be parsed as average to further parse it as average and similarly for framewise.\n",
    "#using this function in \"average\" mode automatically sets \"experiment.framewise\" to \"False\".\n",
    "experiment.parse_parsed_pfa(file_name=\"lfda_het_cg/generated_pfa_average.pfa\", mode=\"average\", group1=\"POPS\", group2=\"POPC\", residue_list=[\"POPS\",\"POPC\"])"
   ]
  },
  {
   "cell_type": "markdown",
   "id": "cfb0ce9f",
   "metadata": {},
   "source": [
    "# Curvature \n",
    "This function generates curvature plots using MDAnalysis and displays them along with pairwise forces of the selected groups and the angle they make with the z-axis. \\\n",
    "\\\n",
    "Arguments: \n",
    " - `specific_frame`: (int) Frame to calculate forces for. default: None.\n",
    " - `window`: (int) Moving Window size. default: None.\n",
    " - `num_x_bins`: (int) Number of bins in x-direction. default: 10.\n",
    " - `num_y_bins`: (int) Number of bins in y-direction. default: 10.\n",
    " - `split`: (bool) Split Calculations into Upper and Lower Membranes. default: False"
   ]
  },
  {
   "cell_type": "code",
   "execution_count": 7,
   "id": "b56980da",
   "metadata": {},
   "outputs": [
    {
     "name": "stderr",
     "output_type": "stream",
     "text": [
      "MDAnalysis.analysis.base: INFO     Choosing frames to analyze\n",
      "MDAnalysis.analysis.base: INFO     Choosing frames to analyze\n",
      "MDAnalysis.analysis.base: INFO     Starting preparation\n",
      "MDAnalysis.analysis.base: INFO     Starting preparation\n"
     ]
    },
    {
     "name": "stdout",
     "output_type": "stream",
     "text": [
      "Creating curvature plot\n"
     ]
    },
    {
     "name": "stderr",
     "output_type": "stream",
     "text": [
      "MDAnalysis.analysis.base: INFO     Finishing up\n",
      "MDAnalysis.analysis.base: INFO     Finishing up\n"
     ]
    }
   ],
   "source": [
    "#Generate curavture plots\n",
    "experiment.curvature()"
   ]
  },
  {
   "cell_type": "code",
   "execution_count": 8,
   "id": "b32b9e60",
   "metadata": {},
   "outputs": [
    {
     "data": {
      "text/html": [
       "<img src=\"het_memb/lfda_het_cg/curvature_averaged_10_10_P.svg\"\"></img>"
      ],
      "text/plain": [
       "<IPython.core.display.HTML object>"
      ]
     },
     "metadata": {},
     "output_type": "display_data"
    }
   ],
   "source": [
    "#visualise curvature plots\n",
    "display(HTML(f'<img src=\"lfda_het_cg/curvature_averaged_10_10_P.svg\"\"></img>'))"
   ]
  },
  {
   "cell_type": "markdown",
   "id": "424aeea9",
   "metadata": {},
   "source": [
    "### Description of the Curvature Plots\n",
    " - The first row contains the 2d contours for the `average_z_surface`, `average_mean_curvature` and `average_gaussian_curvature` respectively.\n",
    " - The second row represents the values in the Y-Bin corresponding to the maximum(Green) and minimum(Purple) of the respective measure among the the Y-Bins.\n",
    " - The third row contains the 2d force contours for the selected lipids."
   ]
  },
  {
   "cell_type": "code",
   "execution_count": 9,
   "id": "d6904e19",
   "metadata": {},
   "outputs": [
    {
     "name": "stdout",
     "output_type": "stream",
     "text": [
      "[68.64947455 67.87826523 43.27094985] 1\n"
     ]
    },
    {
     "name": "stderr",
     "output_type": "stream",
     "text": [
      "MDAnalysis.analysis.base: INFO     Choosing frames to analyze\n",
      "MDAnalysis.analysis.base: INFO     Choosing frames to analyze\n",
      "MDAnalysis.analysis.base: INFO     Starting preparation\n",
      "MDAnalysis.analysis.base: INFO     Starting preparation\n"
     ]
    },
    {
     "name": "stdout",
     "output_type": "stream",
     "text": [
      "Creating curvature plot\n"
     ]
    },
    {
     "name": "stderr",
     "output_type": "stream",
     "text": [
      "MDAnalysis.analysis.base: INFO     Finishing up\n",
      "MDAnalysis.analysis.base: INFO     Finishing up\n",
      "MDAnalysis.analysis.base: INFO     Choosing frames to analyze\n",
      "MDAnalysis.analysis.base: INFO     Choosing frames to analyze\n",
      "MDAnalysis.analysis.base: INFO     Starting preparation\n",
      "MDAnalysis.analysis.base: INFO     Starting preparation\n",
      "MDAnalysis.analysis.base: INFO     Finishing up\n",
      "MDAnalysis.analysis.base: INFO     Finishing up\n"
     ]
    }
   ],
   "source": [
    "#Splitting the curavture into upper and lower membrane.\n",
    "experiment.curvature(split=True)"
   ]
  },
  {
   "cell_type": "code",
   "execution_count": 10,
   "id": "8ffaefcc",
   "metadata": {},
   "outputs": [
    {
     "data": {
      "text/html": [
       "<img src=\"het_memb/lfda_het_cg/curvature_averaged_10_10_P_Upper.svg\"\"></img>"
      ],
      "text/plain": [
       "<IPython.core.display.HTML object>"
      ]
     },
     "metadata": {},
     "output_type": "display_data"
    }
   ],
   "source": [
    "display(HTML(f'<img src=\"lfda_het_cg/curvature_averaged_10_10_P_Upper.svg\"\"></img>'))"
   ]
  },
  {
   "cell_type": "code",
   "execution_count": 11,
   "id": "23de26ea",
   "metadata": {},
   "outputs": [
    {
     "data": {
      "text/html": [
       "<img src=\"het_memb/lfda_het_cg/curvature_averaged_10_10_P_Lower.svg\"\"></img>"
      ],
      "text/plain": [
       "<IPython.core.display.HTML object>"
      ]
     },
     "metadata": {},
     "output_type": "display_data"
    }
   ],
   "source": [
    "display(HTML(f'<img src=\"lfda_het_cg/curvature_averaged_10_10_P_Lower.svg\"\"></img>'))"
   ]
  },
  {
   "cell_type": "markdown",
   "id": "f49cba58",
   "metadata": {},
   "source": [
    "# Cluster \n",
    "This function clusters the selected residues. \\\n",
    "\\\n",
    "Arguments:\n",
    " - `attached_ligands`: (str) Ligand 1 to be clustered. default: group 1 previously selected(\"POPS\" in this example).\n",
    " - `lipids_to_cluster`: (str) Ligand 2 to be clustered. default: group 2 previously selected(\"POPC\" in this example).\n",
    " - `protein_residue_names`: (list) All residues except for attached_ligands and lipids_to_cluster.\n",
    " - `box_side_length`: (int) Length of a box size. default: 6."
   ]
  },
  {
   "cell_type": "code",
   "execution_count": 12,
   "id": "b82a3205",
   "metadata": {},
   "outputs": [
    {
     "name": "stdout",
     "output_type": "stream",
     "text": [
      "Making clutering plots\n"
     ]
    }
   ],
   "source": [
    "experiment.cluster(lipids_to_cluster=\"POPS\", attached_ligands=\"POPC\")"
   ]
  },
  {
   "cell_type": "code",
   "execution_count": 13,
   "id": "38ed92fb",
   "metadata": {},
   "outputs": [
    {
     "data": {
      "text/html": [
       "<img src=\"het_memb/lfda_het_cg/cluster_POPS_POPC.svg\"\"></img>"
      ],
      "text/plain": [
       "<IPython.core.display.HTML object>"
      ]
     },
     "metadata": {},
     "output_type": "display_data"
    }
   ],
   "source": [
    "display(HTML(f'<img src=\"lfda_het_cg/cluster_POPS_POPC.svg\"\"></img>'))"
   ]
  },
  {
   "cell_type": "code",
   "execution_count": 14,
   "id": "dd437787",
   "metadata": {},
   "outputs": [
    {
     "name": "stdout",
     "output_type": "stream",
     "text": [
      "Making clutering plots\n"
     ]
    }
   ],
   "source": [
    "experiment.cluster(lipids_to_cluster=\"POPS\", mode=\"single\")"
   ]
  },
  {
   "cell_type": "code",
   "execution_count": 15,
   "id": "9114774b",
   "metadata": {},
   "outputs": [
    {
     "data": {
      "text/html": [
       "<img src=\"het_memb/lfda_het_cg/cluster_POPS.svg\"\"></img>"
      ],
      "text/plain": [
       "<IPython.core.display.HTML object>"
      ]
     },
     "metadata": {},
     "output_type": "display_data"
    }
   ],
   "source": [
    "display(HTML(f'<img src=\"lfda_het_cg/cluster_POPS.svg\"\"></img>'))"
   ]
  },
  {
   "cell_type": "markdown",
   "id": "efcface9",
   "metadata": {},
   "source": [
    "# Force \n",
    "This function calculates the pairwise force between selected groups 1 and 2. \\\n",
    "\\\n",
    "Arguments: \n",
    " - `specific_frame`: (int) Frame to calculate forces for. default: None.\n",
    " - `window`: (int) Moving Window size. default: None."
   ]
  },
  {
   "cell_type": "code",
   "execution_count": 16,
   "id": "3172b4a8",
   "metadata": {},
   "outputs": [
    {
     "name": "stdout",
     "output_type": "stream",
     "text": [
      "Creating average force plot\n",
      "Average Force plots created and saved\n"
     ]
    }
   ],
   "source": [
    "experiment.force_graph()"
   ]
  },
  {
   "cell_type": "code",
   "execution_count": 17,
   "id": "8ef0e088",
   "metadata": {},
   "outputs": [
    {
     "data": {
      "text/html": [
       "<img src=\"het_memb/lfda_het_cg/force_averaged_POPS_POPC.svg\"\"></img>"
      ],
      "text/plain": [
       "<IPython.core.display.HTML object>"
      ]
     },
     "metadata": {},
     "output_type": "display_data"
    }
   ],
   "source": [
    "display(HTML(f'<img src=\"lfda_het_cg/force_averaged_POPS_POPC.svg\"\"></img>'))"
   ]
  },
  {
   "cell_type": "markdown",
   "id": "80a0e072",
   "metadata": {},
   "source": [
    "# MSD and Diffusion\n",
    "This function calculates MSD values and calculates the diffusion coefficient using MDAnalyses."
   ]
  },
  {
   "cell_type": "code",
   "execution_count": 18,
   "id": "152fe73e",
   "metadata": {},
   "outputs": [
    {
     "name": "stderr",
     "output_type": "stream",
     "text": [
      "MDAnalysis.analysis.base: INFO     Choosing frames to analyze\n",
      "MDAnalysis.analysis.base: INFO     Choosing frames to analyze\n",
      "MDAnalysis.analysis.base: INFO     Starting preparation\n",
      "MDAnalysis.analysis.base: INFO     Starting preparation\n"
     ]
    },
    {
     "name": "stdout",
     "output_type": "stream",
     "text": [
      "Calculating diffusion coefficient\n"
     ]
    },
    {
     "name": "stderr",
     "output_type": "stream",
     "text": [
      "MDAnalysis.analysis.base: INFO     Finishing up\n",
      "MDAnalysis.analysis.base: INFO     Finishing up\n"
     ]
    },
    {
     "name": "stdout",
     "output_type": "stream",
     "text": [
      "Diffution coefficient and MSD plotted\n"
     ]
    }
   ],
   "source": [
    "experiment.msd()"
   ]
  },
  {
   "cell_type": "code",
   "execution_count": 19,
   "id": "8468aa57",
   "metadata": {},
   "outputs": [
    {
     "data": {
      "text/html": [
       "<img src=\"het_memb/lfda_het_cg/MSD.svg\"\"></img>"
      ],
      "text/plain": [
       "<IPython.core.display.HTML object>"
      ]
     },
     "metadata": {},
     "output_type": "display_data"
    }
   ],
   "source": [
    "display(HTML(f'<img src=\"lfda_het_cg/MSD.svg\"\"></img>'))"
   ]
  },
  {
   "cell_type": "markdown",
   "id": "6311f1f8",
   "metadata": {},
   "source": [
    "# Framewise parsing of PFA\n",
    "This section illustrates how to generate framewise and moving window plots."
   ]
  },
  {
   "cell_type": "code",
   "execution_count": 20,
   "id": "0fce9087",
   "metadata": {},
   "outputs": [
    {
     "name": "stdout",
     "output_type": "stream",
     "text": [
      "Parsing PFA file as framewise\n",
      "Parsed PFA file /mnt/c/Users/bhava/Desktop/work/lfda/pyLFDA/het_memb/lfda_het_cg/generated_pfa_framewise.pfa created with 14564 atoms in 760.5916864871979 seconds\n",
      "PFA file parsed in 654.4875428676605 seconds\n"
     ]
    }
   ],
   "source": [
    "#The .pfa file created, is parsed asframewise.\n",
    "experiment.framewise = True\n",
    "experiment.parse_pfa(file_name=\"generated_pfa_framewise.pfa\")"
   ]
  },
  {
   "cell_type": "code",
   "execution_count": 21,
   "id": "e76b9bf9",
   "metadata": {},
   "outputs": [
    {
     "name": "stdout",
     "output_type": "stream",
     "text": [
      "Loading Framewise parsed PFA file\n",
      "Summed PFA file parsed in 965.686830997467 seconds\n"
     ]
    }
   ],
   "source": [
    "#using this function in \"framewise\" mode automatically sets \"experiment.framewise\" to \"True\".\n",
    "experiment.parse_parsed_pfa(file_name=\"lfda_het_cg/generated_pfa_framewise.pfa\", mode=\"framewise\", group1=\"POPS\", group2=\"POPC\", residue_list=[\"POPS\",\"POPC\"])"
   ]
  },
  {
   "cell_type": "code",
   "execution_count": 22,
   "id": "0a725d58",
   "metadata": {
    "scrolled": true
   },
   "outputs": [
    {
     "name": "stdout",
     "output_type": "stream",
     "text": [
      "Creating 50 specific frame curvature plot\n"
     ]
    },
    {
     "name": "stderr",
     "output_type": "stream",
     "text": [
      "MDAnalysis.analysis.base: INFO     Choosing frames to analyze\n",
      "MDAnalysis.analysis.base: INFO     Choosing frames to analyze\n",
      "INFO:MDAnalysis.analysis.base:Choosing frames to analyze\n",
      "MDAnalysis.analysis.base: INFO     Starting preparation\n",
      "MDAnalysis.analysis.base: INFO     Starting preparation\n",
      "INFO:MDAnalysis.analysis.base:Starting preparation\n",
      "MDAnalysis.analysis.base: INFO     Finishing up\n",
      "MDAnalysis.analysis.base: INFO     Finishing up\n",
      "INFO:MDAnalysis.analysis.base:Finishing up\n"
     ]
    }
   ],
   "source": [
    "#create curvature plots for the 50th frame\n",
    "experiment.curvature(specific_frame=50)"
   ]
  },
  {
   "cell_type": "code",
   "execution_count": 23,
   "id": "769bae75",
   "metadata": {},
   "outputs": [
    {
     "data": {
      "text/html": [
       "<img src=\"het_memb/lfda_het_cg/curvature_framewise_10_10_P_50.svg\"\"></img>"
      ],
      "text/plain": [
       "<IPython.core.display.HTML object>"
      ]
     },
     "metadata": {},
     "output_type": "display_data"
    }
   ],
   "source": [
    "#visualise the plots\n",
    "display(HTML(f'<img src=\"lfda_het_cg/curvature_framewise_10_10_P_50.svg\"\"></img>'))"
   ]
  },
  {
   "cell_type": "code",
   "execution_count": 24,
   "id": "2f3cd2d2",
   "metadata": {},
   "outputs": [
    {
     "data": {
      "text/html": [
       "<img src=\"het_memb/lfda_het_cg/curvature_framewise_angles_framewise.svg\"\"></img>"
      ],
      "text/plain": [
       "<IPython.core.display.HTML object>"
      ]
     },
     "metadata": {},
     "output_type": "display_data"
    }
   ],
   "source": [
    "#Framewise lipid angles\n",
    "display(HTML(f'<img src=\"lfda_het_cg/curvature_framewise_angles_framewise.svg\"\"></img>'))"
   ]
  },
  {
   "cell_type": "code",
   "execution_count": 25,
   "id": "5f1d4a17",
   "metadata": {},
   "outputs": [
    {
     "name": "stdout",
     "output_type": "stream",
     "text": [
      "Creating 1000 window size curvature plots\n"
     ]
    },
    {
     "name": "stderr",
     "output_type": "stream",
     "text": [
      "MDAnalysis.analysis.base: INFO     Choosing frames to analyze\n",
      "MDAnalysis.analysis.base: INFO     Choosing frames to analyze\n",
      "MDAnalysis.analysis.base: INFO     Starting preparation\n",
      "MDAnalysis.analysis.base: INFO     Starting preparation\n",
      "MDAnalysis.analysis.base: INFO     Finishing up\n",
      "MDAnalysis.analysis.base: INFO     Finishing up\n"
     ]
    }
   ],
   "source": [
    "#create curvature plots for a moving window of size 20. Plots created are for the windows 0-1000, 1000-2000 and so on till 10k for our case.\n",
    "experiment.curvature(window=1000)"
   ]
  },
  {
   "cell_type": "code",
   "execution_count": 26,
   "id": "fb28fa32",
   "metadata": {},
   "outputs": [
    {
     "data": {
      "text/html": [
       "<img src=\"het_memb/lfda_het_cg/curvature_moving_window_10_10_P_window_5000_6000.svg\"\"></img>"
      ],
      "text/plain": [
       "<IPython.core.display.HTML object>"
      ]
     },
     "metadata": {},
     "output_type": "display_data"
    }
   ],
   "source": [
    "display(HTML(f'<img src=\"lfda_het_cg/curvature_moving_window_10_10_P_window_5000_6000.svg\"\"></img>'))"
   ]
  },
  {
   "cell_type": "code",
   "execution_count": 27,
   "id": "b633ba0c",
   "metadata": {},
   "outputs": [
    {
     "data": {
      "text/html": [
       "<img src=\"het_memb/lfda_het_cg/curvature_moving_window_angles_windowed.svg\"\"></img>"
      ],
      "text/plain": [
       "<IPython.core.display.HTML object>"
      ]
     },
     "metadata": {},
     "output_type": "display_data"
    }
   ],
   "source": [
    "#Gangle isnt working\n",
    "display(HTML(f'<img src=\"lfda_het_cg/curvature_moving_window_angles_windowed.svg\"\"></img>'))"
   ]
  },
  {
   "cell_type": "code",
   "execution_count": 28,
   "id": "fca4f397",
   "metadata": {},
   "outputs": [
    {
     "name": "stdout",
     "output_type": "stream",
     "text": [
      "Creating framewise average force plot\n",
      "Force plots created and saved for frame - 50\n"
     ]
    }
   ],
   "source": [
    "#create force plots for the 50th frame\n",
    "experiment.force_graph(specific_frame=50)"
   ]
  },
  {
   "cell_type": "code",
   "execution_count": 29,
   "id": "4fbb46a2",
   "metadata": {},
   "outputs": [
    {
     "data": {
      "text/html": [
       "<img src=\"het_memb/lfda_het_cg/force_specific_frame_POPS_50.svg\"\"></img>"
      ],
      "text/plain": [
       "<IPython.core.display.HTML object>"
      ]
     },
     "metadata": {},
     "output_type": "display_data"
    }
   ],
   "source": [
    "#visualise the plots\n",
    "display(HTML(f'<img src=\"lfda_het_cg/force_specific_frame_POPS_50.svg\"\"></img>'))"
   ]
  },
  {
   "cell_type": "code",
   "execution_count": 30,
   "id": "8d872672",
   "metadata": {},
   "outputs": [
    {
     "data": {
      "text/html": [
       "<img src=\"het_memb/lfda_het_cg/force_specific_frame_POPC_50.svg\"\"></img>"
      ],
      "text/plain": [
       "<IPython.core.display.HTML object>"
      ]
     },
     "metadata": {},
     "output_type": "display_data"
    }
   ],
   "source": [
    "display(HTML(f'<img src=\"lfda_het_cg/force_specific_frame_POPC_50.svg\"\"></img>'))\n"
   ]
  },
  {
   "cell_type": "code",
   "execution_count": 31,
   "id": "ce0b921d",
   "metadata": {},
   "outputs": [
    {
     "name": "stdout",
     "output_type": "stream",
     "text": [
      "Creating framewise average force plot\n",
      "Force plots created and saved for moving window of size - 20\n"
     ]
    }
   ],
   "source": [
    "#create force plots for a moving window of size 20.\n",
    "experiment.force_graph(window=20)"
   ]
  },
  {
   "cell_type": "code",
   "execution_count": 32,
   "id": "b8fe37fd",
   "metadata": {},
   "outputs": [
    {
     "data": {
      "text/html": [
       "<img src=\"het_memb/lfda_het_cg/force_moving_window_POPC_40_to_60.svg\"\"></img>"
      ],
      "text/plain": [
       "<IPython.core.display.HTML object>"
      ]
     },
     "metadata": {},
     "output_type": "display_data"
    }
   ],
   "source": [
    "display(HTML(f'<img src=\"lfda_het_cg/force_moving_window_POPC_40_to_60.svg\"\"></img>'))"
   ]
  },
  {
   "cell_type": "code",
   "execution_count": 33,
   "id": "16ea78fb",
   "metadata": {},
   "outputs": [
    {
     "data": {
      "text/html": [
       "<img src=\"het_memb/lfda_het_cg/force_moving_window_POPS_40_to_60.svg\"\"></img>"
      ],
      "text/plain": [
       "<IPython.core.display.HTML object>"
      ]
     },
     "metadata": {},
     "output_type": "display_data"
    }
   ],
   "source": [
    "display(HTML(f'<img src=\"lfda_het_cg/force_moving_window_POPS_40_to_60.svg\"\"></img>'))"
   ]
  },
  {
   "cell_type": "code",
   "execution_count": 34,
   "id": "28a99874",
   "metadata": {},
   "outputs": [
    {
     "name": "stdout",
     "output_type": "stream",
     "text": [
      "Loading a new PDB file with bFactor\n",
      "PDB with BFactor values created in 1466.0400023460388 seconds\n"
     ]
    }
   ],
   "source": [
    "#Create new PDB files with bFactor Loaded.\n",
    "experiment.bfactor_pdb(bfactor_pdb_filename=\"bfactor_pdb_combined\", mode=\"combined\")"
   ]
  },
  {
   "cell_type": "code",
   "execution_count": 35,
   "id": "3e091a0c",
   "metadata": {},
   "outputs": [
    {
     "name": "stdout",
     "output_type": "stream",
     "text": [
      "Loading a new PDB file with bFactor\n",
      "PDB with BFactor values created in 2111.4183835983276 seconds\n"
     ]
    }
   ],
   "source": [
    "experiment.bfactor_pdb(bfactor_pdb_filename=\"bfactor_pdb_atomwise\", mode=\"atomwise\")"
   ]
  },
  {
   "cell_type": "markdown",
   "id": "0eaa62f2",
   "metadata": {},
   "source": [
    "# Lipid Angles\n",
    "\n",
    "This function calculates the angle between the vector of the selected lipids and the z-axis. The vector is defined between the P atom and the specified atom. The function allows you to calculate the angle individually for each lipid or group them together to calculate the average angle. \\\n",
    "\\\n",
    "Arguments: \n",
    " - `selection`: (list) List of lipids for which the angle has to be calculated.\n",
    " - `grouping`: ('combine'/'individual') Whether to group the selected lipids or keep them individual.\n",
    " - `c_atom_name`: (str) Name of the atom to which the lipid vector is to be defined. default: 'C4B'."
   ]
  },
  {
   "cell_type": "code",
   "execution_count": 36,
   "id": "5b54c4a4",
   "metadata": {},
   "outputs": [
    {
     "name": "stdout",
     "output_type": "stream",
     "text": [
      "Calculating lipid angles with vector as P -> C4B\n"
     ]
    }
   ],
   "source": [
    "experiment.angles(selection=['POPC', 'POPS', 'POPE', 'POSM'], grouping = 'individual', c_atom_name = 'C4B')"
   ]
  },
  {
   "cell_type": "code",
   "execution_count": 37,
   "id": "18d9a6e4",
   "metadata": {},
   "outputs": [
    {
     "data": {
      "text/html": [
       "<img src=\"het_memb/lfda_het_cg/angles_framewise_P_to_C4B_POPC_POPS_POPE_POSM.svg\"\"></img>"
      ],
      "text/plain": [
       "<IPython.core.display.HTML object>"
      ]
     },
     "metadata": {},
     "output_type": "display_data"
    }
   ],
   "source": [
    "display(HTML(f'<img src=\"lfda_het_cg/angles_framewise_P_to_C4B_POPC_POPS_POPE_POSM.svg\"\"></img>'))"
   ]
  },
  {
   "cell_type": "code",
   "execution_count": 38,
   "id": "714741cf",
   "metadata": {},
   "outputs": [
    {
     "name": "stdout",
     "output_type": "stream",
     "text": [
      "Calculating lipid angles with vector as P -> C4B\n"
     ]
    }
   ],
   "source": [
    "experiment.angles(selection=['POPC', 'POPS', 'POPE', 'POSM'], grouping = 'individual', c_atom_name = 'C4B', split = True)"
   ]
  },
  {
   "cell_type": "code",
   "execution_count": 39,
   "id": "66a689ad",
   "metadata": {},
   "outputs": [
    {
     "data": {
      "text/html": [
       "<img src=\"het_memb/lfda_het_cg/angles_framewise_P_to_C4B_POPC_POPS_POPE_POSM_Upper.svg\"\"></img>"
      ],
      "text/plain": [
       "<IPython.core.display.HTML object>"
      ]
     },
     "metadata": {},
     "output_type": "display_data"
    }
   ],
   "source": [
    "display(HTML(f'<img src=\"lfda_het_cg/angles_framewise_P_to_C4B_POPC_POPS_POPE_POSM_Upper.svg\"\"></img>'))"
   ]
  },
  {
   "cell_type": "code",
   "execution_count": 40,
   "id": "fbc7df39",
   "metadata": {},
   "outputs": [
    {
     "data": {
      "text/html": [
       "<img src=\"het_memb/lfda_het_cg/angles_framewise_P_to_C4B_POPC_POPS_POPE_POSM_Lower.svg\"\"></img>"
      ],
      "text/plain": [
       "<IPython.core.display.HTML object>"
      ]
     },
     "metadata": {},
     "output_type": "display_data"
    }
   ],
   "source": [
    "display(HTML(f'<img src=\"lfda_het_cg/angles_framewise_P_to_C4B_POPC_POPS_POPE_POSM_Lower.svg\"\"></img>'))"
   ]
  },
  {
   "cell_type": "code",
   "execution_count": 41,
   "id": "b6b5c86c",
   "metadata": {},
   "outputs": [
    {
     "name": "stdout",
     "output_type": "stream",
     "text": [
      "Calculating lipid angles with vector as P -> C4B\n"
     ]
    }
   ],
   "source": [
    "experiment.angles(selection=['POPC', 'POPS', 'POPE', 'PSM'], grouping = 'combine', c_atom_name = 'C4B')"
   ]
  },
  {
   "cell_type": "code",
   "execution_count": 42,
   "id": "8fb9afdc",
   "metadata": {},
   "outputs": [
    {
     "data": {
      "text/html": [
       "<img src=\"het_memb/lfda_het_cg/angles_framewise_combined_P_to_C4B.svg\"\"></img>"
      ],
      "text/plain": [
       "<IPython.core.display.HTML object>"
      ]
     },
     "metadata": {},
     "output_type": "display_data"
    }
   ],
   "source": [
    "display(HTML(f'<img src=\"lfda_het_cg/angles_framewise_combined_P_to_C4B.svg\"\"></img>'))"
   ]
  }
 ],
 "metadata": {
  "kernelspec": {
   "display_name": "Python 3 (ipykernel)",
   "language": "python",
   "name": "python3"
  },
  "language_info": {
   "codemirror_mode": {
    "name": "ipython",
    "version": 3
   },
   "file_extension": ".py",
   "mimetype": "text/x-python",
   "name": "python",
   "nbconvert_exporter": "python",
   "pygments_lexer": "ipython3",
   "version": "3.10.0"
  },
  "toc": {
   "base_numbering": 1,
   "nav_menu": {},
   "number_sections": true,
   "sideBar": true,
   "skip_h1_title": false,
   "title_cell": "Table of Contents",
   "title_sidebar": "Contents",
   "toc_cell": true,
   "toc_position": {
    "height": "calc(100% - 180px)",
    "left": "10px",
    "top": "150px",
    "width": "300.312px"
   },
   "toc_section_display": true,
   "toc_window_display": false
  }
 },
 "nbformat": 4,
 "nbformat_minor": 5
}
